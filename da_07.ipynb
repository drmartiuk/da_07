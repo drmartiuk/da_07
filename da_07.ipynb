{
 "cells": [
  {
   "cell_type": "markdown",
   "metadata": {},
   "source": [
    "# Сборный проект\n",
    "\n",
    "Описание задачи\n",
    "\n",
    "Вы работаете в интернет-магазине «Стримчик», который продаёт по всему миру компьютерные игры. Из открытых источников доступны исторические данные о продажах игр, оценки пользователей и экспертов, жанры и платформы (например, Xbox или PlayStation). Вам нужно выявить определяющие успешность игры закономерности. Это позволит сделать ставку на потенциально популярный продукт и спланировать рекламные кампании.\n",
    "\n",
    "Перед вами данные до 2016 года. Представим, что сейчас декабрь 2016 г., и вы планируете кампанию на 2017-й. Нужно отработать принцип работы с данными. Неважно, прогнозируете ли вы продажи на 2017 год по данным 2016-го или же 2027-й — по данным 2026 года.\n",
    "\n",
    "В наборе данных попадается аббревиатура ESRB (Entertainment Software Rating Board) — это ассоциация, определяющая возрастной рейтинг компьютерных игр. ESRB оценивает игровой контент и присваивает ему подходящую возрастную категорию, например, «Для взрослых», «Для детей младшего возраста» или «Для подростков»."
   ]
  },
  {
   "cell_type": "code",
   "execution_count": 1,
   "metadata": {},
   "outputs": [],
   "source": [
    "import pandas as pd\n",
    "import numpy as np\n",
    "import scipy.stats as st\n",
    "import matplotlib.pyplot as plt\n",
    "import seaborn as seaborn"
   ]
  },
  {
   "cell_type": "markdown",
   "metadata": {},
   "source": [
    "# Шаг 1. Загрузка данных"
   ]
  },
  {
   "cell_type": "code",
   "execution_count": 2,
   "metadata": {},
   "outputs": [],
   "source": [
    "data=pd.read_csv('/datasets/games.csv')\n",
    "data.head(5)\n",
    "len_data_1=data['Name'].count()"
   ]
  },
  {
   "cell_type": "markdown",
   "metadata": {},
   "source": [
    "# Шаг 2. Подготовка данных"
   ]
  },
  {
   "cell_type": "markdown",
   "metadata": {},
   "source": [
    "# Замена названия столбцов (приведение к нижнему регистру)"
   ]
  },
  {
   "cell_type": "code",
   "execution_count": 3,
   "metadata": {},
   "outputs": [
    {
     "data": {
      "text/html": [
       "<div>\n",
       "<style scoped>\n",
       "    .dataframe tbody tr th:only-of-type {\n",
       "        vertical-align: middle;\n",
       "    }\n",
       "\n",
       "    .dataframe tbody tr th {\n",
       "        vertical-align: top;\n",
       "    }\n",
       "\n",
       "    .dataframe thead th {\n",
       "        text-align: right;\n",
       "    }\n",
       "</style>\n",
       "<table border=\"1\" class=\"dataframe\">\n",
       "  <thead>\n",
       "    <tr style=\"text-align: right;\">\n",
       "      <th></th>\n",
       "      <th>name</th>\n",
       "      <th>platform</th>\n",
       "      <th>year_of_release</th>\n",
       "      <th>genre</th>\n",
       "      <th>na_sales</th>\n",
       "      <th>eu_sales</th>\n",
       "      <th>jp_sales</th>\n",
       "      <th>other_sales</th>\n",
       "      <th>critic_score</th>\n",
       "      <th>user_score</th>\n",
       "      <th>rating</th>\n",
       "    </tr>\n",
       "  </thead>\n",
       "  <tbody>\n",
       "    <tr>\n",
       "      <th>0</th>\n",
       "      <td>Wii Sports</td>\n",
       "      <td>Wii</td>\n",
       "      <td>2006.0</td>\n",
       "      <td>Sports</td>\n",
       "      <td>41.36</td>\n",
       "      <td>28.96</td>\n",
       "      <td>3.77</td>\n",
       "      <td>8.45</td>\n",
       "      <td>76.0</td>\n",
       "      <td>8</td>\n",
       "      <td>E</td>\n",
       "    </tr>\n",
       "    <tr>\n",
       "      <th>1</th>\n",
       "      <td>Super Mario Bros.</td>\n",
       "      <td>NES</td>\n",
       "      <td>1985.0</td>\n",
       "      <td>Platform</td>\n",
       "      <td>29.08</td>\n",
       "      <td>3.58</td>\n",
       "      <td>6.81</td>\n",
       "      <td>0.77</td>\n",
       "      <td>NaN</td>\n",
       "      <td>NaN</td>\n",
       "      <td>NaN</td>\n",
       "    </tr>\n",
       "    <tr>\n",
       "      <th>2</th>\n",
       "      <td>Mario Kart Wii</td>\n",
       "      <td>Wii</td>\n",
       "      <td>2008.0</td>\n",
       "      <td>Racing</td>\n",
       "      <td>15.68</td>\n",
       "      <td>12.76</td>\n",
       "      <td>3.79</td>\n",
       "      <td>3.29</td>\n",
       "      <td>82.0</td>\n",
       "      <td>8.3</td>\n",
       "      <td>E</td>\n",
       "    </tr>\n",
       "    <tr>\n",
       "      <th>3</th>\n",
       "      <td>Wii Sports Resort</td>\n",
       "      <td>Wii</td>\n",
       "      <td>2009.0</td>\n",
       "      <td>Sports</td>\n",
       "      <td>15.61</td>\n",
       "      <td>10.93</td>\n",
       "      <td>3.28</td>\n",
       "      <td>2.95</td>\n",
       "      <td>80.0</td>\n",
       "      <td>8</td>\n",
       "      <td>E</td>\n",
       "    </tr>\n",
       "    <tr>\n",
       "      <th>4</th>\n",
       "      <td>Pokemon Red/Pokemon Blue</td>\n",
       "      <td>GB</td>\n",
       "      <td>1996.0</td>\n",
       "      <td>Role-Playing</td>\n",
       "      <td>11.27</td>\n",
       "      <td>8.89</td>\n",
       "      <td>10.22</td>\n",
       "      <td>1.00</td>\n",
       "      <td>NaN</td>\n",
       "      <td>NaN</td>\n",
       "      <td>NaN</td>\n",
       "    </tr>\n",
       "  </tbody>\n",
       "</table>\n",
       "</div>"
      ],
      "text/plain": [
       "                       name platform  year_of_release         genre  na_sales  \\\n",
       "0                Wii Sports      Wii           2006.0        Sports     41.36   \n",
       "1         Super Mario Bros.      NES           1985.0      Platform     29.08   \n",
       "2            Mario Kart Wii      Wii           2008.0        Racing     15.68   \n",
       "3         Wii Sports Resort      Wii           2009.0        Sports     15.61   \n",
       "4  Pokemon Red/Pokemon Blue       GB           1996.0  Role-Playing     11.27   \n",
       "\n",
       "   eu_sales  jp_sales  other_sales  critic_score user_score rating  \n",
       "0     28.96      3.77         8.45          76.0          8      E  \n",
       "1      3.58      6.81         0.77           NaN        NaN    NaN  \n",
       "2     12.76      3.79         3.29          82.0        8.3      E  \n",
       "3     10.93      3.28         2.95          80.0          8      E  \n",
       "4      8.89     10.22         1.00           NaN        NaN    NaN  "
      ]
     },
     "execution_count": 3,
     "metadata": {},
     "output_type": "execute_result"
    }
   ],
   "source": [
    "data.columns=data.columns.str.lower()\n",
    "data.head(5)"
   ]
  },
  {
   "cell_type": "markdown",
   "metadata": {},
   "source": [
    "# Преобразование данных в нужные типы"
   ]
  },
  {
   "cell_type": "code",
   "execution_count": 4,
   "metadata": {},
   "outputs": [
    {
     "name": "stdout",
     "output_type": "stream",
     "text": [
      "<class 'pandas.core.frame.DataFrame'>\n",
      "RangeIndex: 16715 entries, 0 to 16714\n",
      "Data columns (total 11 columns):\n",
      " #   Column           Non-Null Count  Dtype  \n",
      "---  ------           --------------  -----  \n",
      " 0   name             16713 non-null  object \n",
      " 1   platform         16715 non-null  object \n",
      " 2   year_of_release  16446 non-null  float64\n",
      " 3   genre            16713 non-null  object \n",
      " 4   na_sales         16715 non-null  float64\n",
      " 5   eu_sales         16715 non-null  float64\n",
      " 6   jp_sales         16715 non-null  float64\n",
      " 7   other_sales      16715 non-null  float64\n",
      " 8   critic_score     8137 non-null   float64\n",
      " 9   user_score       10014 non-null  object \n",
      " 10  rating           9949 non-null   object \n",
      "dtypes: float64(6), object(5)\n",
      "memory usage: 1.4+ MB\n"
     ]
    }
   ],
   "source": [
    "data.info()\n",
    "data['year_of_release'] = np.floor(pd.to_numeric(data['year_of_release'], errors='coerce')).astype('Int64')\n",
    "data['critic_score'] = np.floor(pd.to_numeric(data['critic_score'], errors='coerce')).astype('Int64')"
   ]
  },
  {
   "cell_type": "markdown",
   "metadata": {},
   "source": [
    "Вывод: в столбцах critic_score, year_of_release изменен формат данных в int"
   ]
  },
  {
   "cell_type": "markdown",
   "metadata": {},
   "source": [
    "# Обработка пропусков"
   ]
  },
  {
   "cell_type": "code",
   "execution_count": 5,
   "metadata": {},
   "outputs": [
    {
     "data": {
      "text/plain": [
       "name                  0\n",
       "platform              0\n",
       "year_of_release       0\n",
       "genre                 0\n",
       "na_sales              0\n",
       "eu_sales              0\n",
       "jp_sales              0\n",
       "other_sales           0\n",
       "critic_score       8461\n",
       "user_score         8981\n",
       "rating                0\n",
       "dtype: int64"
      ]
     },
     "metadata": {},
     "output_type": "display_data"
    },
    {
     "data": {
      "text/plain": [
       "1.6095255190570157"
      ]
     },
     "metadata": {},
     "output_type": "display_data"
    }
   ],
   "source": [
    "#выведем количество ячеек с нулевыми значениями в столбцах датафрейма]\n",
    "data.loc[data['user_score'] =='tbd','user_score'] = np.nan\n",
    "data['user_score'] = data['user_score'].astype('float')\n",
    "data.drop(data[data['year_of_release'].isna()].index,inplace=True)\n",
    "data.drop(data[data['name'].isna()].index,inplace=True)\n",
    "data.loc[data.loc[:,'rating'].isnull(),'rating'] = 'нет рейтинга'\n",
    "display(data.isna().sum())\n",
    "len_data_2=data['name'].count()\n",
    "display(100-100*len_data_2/len_data_1)"
   ]
  },
  {
   "cell_type": "markdown",
   "metadata": {},
   "source": [
    "Вывод: значение tbd заменено на NaN. Год релиза, оценка критиков,\n",
    "пользователей и рейтинг не могут быть подставлены по медианному или среднему\n",
    "значению, поэтому не были удалены или заменены на средние. Возможно оценка для каждой игры появляется на основании какого-то количества оценок пользователей и критиков, а для некоторых игр данная цифра не достигается, поэтому результирующая оценка и не отображается в датафрейме. \n",
    "\n",
    "tbd- расшифровывается с ангилийского \"to be defined\". Оценка еще не выставлена."
   ]
  },
  {
   "cell_type": "markdown",
   "metadata": {},
   "source": [
    "# Удаление дубликатов"
   ]
  },
  {
   "cell_type": "code",
   "execution_count": 6,
   "metadata": {},
   "outputs": [
    {
     "data": {
      "text/plain": [
       "(16444, 11)"
      ]
     },
     "metadata": {},
     "output_type": "display_data"
    },
    {
     "data": {
      "text/plain": [
       "(16443, 11)"
      ]
     },
     "metadata": {},
     "output_type": "display_data"
    }
   ],
   "source": [
    "display(data.shape)\n",
    "data=data.drop_duplicates()\n",
    "data=data.drop_duplicates(subset=['name','platform','year_of_release'])\n",
    "display(data.shape)"
   ]
  },
  {
   "cell_type": "markdown",
   "metadata": {},
   "source": [
    "Вывод: явные дубликаты отсутствуют в датафрейме."
   ]
  },
  {
   "cell_type": "markdown",
   "metadata": {},
   "source": [
    "# Подсчет суммарных продаж по миру"
   ]
  },
  {
   "cell_type": "code",
   "execution_count": 7,
   "metadata": {},
   "outputs": [
    {
     "data": {
      "text/html": [
       "<div>\n",
       "<style scoped>\n",
       "    .dataframe tbody tr th:only-of-type {\n",
       "        vertical-align: middle;\n",
       "    }\n",
       "\n",
       "    .dataframe tbody tr th {\n",
       "        vertical-align: top;\n",
       "    }\n",
       "\n",
       "    .dataframe thead th {\n",
       "        text-align: right;\n",
       "    }\n",
       "</style>\n",
       "<table border=\"1\" class=\"dataframe\">\n",
       "  <thead>\n",
       "    <tr style=\"text-align: right;\">\n",
       "      <th></th>\n",
       "      <th>name</th>\n",
       "      <th>platform</th>\n",
       "      <th>year_of_release</th>\n",
       "      <th>genre</th>\n",
       "      <th>na_sales</th>\n",
       "      <th>eu_sales</th>\n",
       "      <th>jp_sales</th>\n",
       "      <th>other_sales</th>\n",
       "      <th>critic_score</th>\n",
       "      <th>user_score</th>\n",
       "      <th>rating</th>\n",
       "      <th>total_sales</th>\n",
       "    </tr>\n",
       "  </thead>\n",
       "  <tbody>\n",
       "    <tr>\n",
       "      <th>0</th>\n",
       "      <td>Wii Sports</td>\n",
       "      <td>Wii</td>\n",
       "      <td>2006</td>\n",
       "      <td>Sports</td>\n",
       "      <td>41.36</td>\n",
       "      <td>28.96</td>\n",
       "      <td>3.77</td>\n",
       "      <td>8.45</td>\n",
       "      <td>76</td>\n",
       "      <td>8.0</td>\n",
       "      <td>E</td>\n",
       "      <td>82.54</td>\n",
       "    </tr>\n",
       "    <tr>\n",
       "      <th>1</th>\n",
       "      <td>Super Mario Bros.</td>\n",
       "      <td>NES</td>\n",
       "      <td>1985</td>\n",
       "      <td>Platform</td>\n",
       "      <td>29.08</td>\n",
       "      <td>3.58</td>\n",
       "      <td>6.81</td>\n",
       "      <td>0.77</td>\n",
       "      <td>&lt;NA&gt;</td>\n",
       "      <td>NaN</td>\n",
       "      <td>нет рейтинга</td>\n",
       "      <td>40.24</td>\n",
       "    </tr>\n",
       "    <tr>\n",
       "      <th>2</th>\n",
       "      <td>Mario Kart Wii</td>\n",
       "      <td>Wii</td>\n",
       "      <td>2008</td>\n",
       "      <td>Racing</td>\n",
       "      <td>15.68</td>\n",
       "      <td>12.76</td>\n",
       "      <td>3.79</td>\n",
       "      <td>3.29</td>\n",
       "      <td>82</td>\n",
       "      <td>8.3</td>\n",
       "      <td>E</td>\n",
       "      <td>35.52</td>\n",
       "    </tr>\n",
       "    <tr>\n",
       "      <th>3</th>\n",
       "      <td>Wii Sports Resort</td>\n",
       "      <td>Wii</td>\n",
       "      <td>2009</td>\n",
       "      <td>Sports</td>\n",
       "      <td>15.61</td>\n",
       "      <td>10.93</td>\n",
       "      <td>3.28</td>\n",
       "      <td>2.95</td>\n",
       "      <td>80</td>\n",
       "      <td>8.0</td>\n",
       "      <td>E</td>\n",
       "      <td>32.77</td>\n",
       "    </tr>\n",
       "    <tr>\n",
       "      <th>4</th>\n",
       "      <td>Pokemon Red/Pokemon Blue</td>\n",
       "      <td>GB</td>\n",
       "      <td>1996</td>\n",
       "      <td>Role-Playing</td>\n",
       "      <td>11.27</td>\n",
       "      <td>8.89</td>\n",
       "      <td>10.22</td>\n",
       "      <td>1.00</td>\n",
       "      <td>&lt;NA&gt;</td>\n",
       "      <td>NaN</td>\n",
       "      <td>нет рейтинга</td>\n",
       "      <td>31.38</td>\n",
       "    </tr>\n",
       "  </tbody>\n",
       "</table>\n",
       "</div>"
      ],
      "text/plain": [
       "                       name platform  year_of_release         genre  na_sales  \\\n",
       "0                Wii Sports      Wii             2006        Sports     41.36   \n",
       "1         Super Mario Bros.      NES             1985      Platform     29.08   \n",
       "2            Mario Kart Wii      Wii             2008        Racing     15.68   \n",
       "3         Wii Sports Resort      Wii             2009        Sports     15.61   \n",
       "4  Pokemon Red/Pokemon Blue       GB             1996  Role-Playing     11.27   \n",
       "\n",
       "   eu_sales  jp_sales  other_sales  critic_score  user_score        rating  \\\n",
       "0     28.96      3.77         8.45            76         8.0             E   \n",
       "1      3.58      6.81         0.77          <NA>         NaN  нет рейтинга   \n",
       "2     12.76      3.79         3.29            82         8.3             E   \n",
       "3     10.93      3.28         2.95            80         8.0             E   \n",
       "4      8.89     10.22         1.00          <NA>         NaN  нет рейтинга   \n",
       "\n",
       "   total_sales  \n",
       "0        82.54  \n",
       "1        40.24  \n",
       "2        35.52  \n",
       "3        32.77  \n",
       "4        31.38  "
      ]
     },
     "execution_count": 7,
     "metadata": {},
     "output_type": "execute_result"
    }
   ],
   "source": [
    "data['total_sales']=data['na_sales']+data['eu_sales']+data['jp_sales']+data['other_sales']\n",
    "data.head(5)"
   ]
  },
  {
   "cell_type": "markdown",
   "metadata": {},
   "source": [
    "# Шаг 3. Проведение исследовательского анализа данных"
   ]
  },
  {
   "cell_type": "markdown",
   "metadata": {},
   "source": [
    "# Количество выпускаемых игр за все года"
   ]
  },
  {
   "cell_type": "code",
   "execution_count": 8,
   "metadata": {},
   "outputs": [
    {
     "data": {
      "image/png": "[encoded data removed]",
      "text/plain": [
       "<Figure size 432x288 with 1 Axes>"
      ]
     },
     "metadata": {
      "needs_background": "light"
     },
     "output_type": "display_data"
    }
   ],
   "source": [
    "years=pd.pivot_table(data, index='year_of_release', values='name', aggfunc='count')\n",
    "years.plot(y='name', style='-o',title='Количество выпускаемых игр')\n",
    "data_2 = data.query('2013<= year_of_release <= 2016')"
   ]
  },
  {
   "cell_type": "markdown",
   "metadata": {},
   "source": [
    "Вывод: По графику видно, что стоит отбросить данные до 2000 г. Актуальный\n",
    "период взят за 2013-2016 гг. для последующих расчетов, т.к. индустрия игр стремительно развивается."
   ]
  },
  {
   "cell_type": "markdown",
   "metadata": {},
   "source": [
    "# Продажи по платформам"
   ]
  },
  {
   "cell_type": "code",
   "execution_count": 9,
   "metadata": {},
   "outputs": [
    {
     "data": {
      "text/html": [
       "<div>\n",
       "<style scoped>\n",
       "    .dataframe tbody tr th:only-of-type {\n",
       "        vertical-align: middle;\n",
       "    }\n",
       "\n",
       "    .dataframe tbody tr th {\n",
       "        vertical-align: top;\n",
       "    }\n",
       "\n",
       "    .dataframe thead th {\n",
       "        text-align: right;\n",
       "    }\n",
       "</style>\n",
       "<table border=\"1\" class=\"dataframe\">\n",
       "  <thead>\n",
       "    <tr style=\"text-align: right;\">\n",
       "      <th></th>\n",
       "      <th>total_sales</th>\n",
       "    </tr>\n",
       "    <tr>\n",
       "      <th>platform</th>\n",
       "      <th></th>\n",
       "    </tr>\n",
       "  </thead>\n",
       "  <tbody>\n",
       "    <tr>\n",
       "      <th>PS4</th>\n",
       "      <td>314.14</td>\n",
       "    </tr>\n",
       "    <tr>\n",
       "      <th>PS3</th>\n",
       "      <td>181.43</td>\n",
       "    </tr>\n",
       "    <tr>\n",
       "      <th>XOne</th>\n",
       "      <td>159.32</td>\n",
       "    </tr>\n",
       "    <tr>\n",
       "      <th>3DS</th>\n",
       "      <td>143.25</td>\n",
       "    </tr>\n",
       "    <tr>\n",
       "      <th>X360</th>\n",
       "      <td>136.80</td>\n",
       "    </tr>\n",
       "    <tr>\n",
       "      <th>WiiU</th>\n",
       "      <td>64.63</td>\n",
       "    </tr>\n",
       "    <tr>\n",
       "      <th>PC</th>\n",
       "      <td>39.43</td>\n",
       "    </tr>\n",
       "    <tr>\n",
       "      <th>PSV</th>\n",
       "      <td>32.99</td>\n",
       "    </tr>\n",
       "    <tr>\n",
       "      <th>Wii</th>\n",
       "      <td>13.66</td>\n",
       "    </tr>\n",
       "    <tr>\n",
       "      <th>PSP</th>\n",
       "      <td>3.50</td>\n",
       "    </tr>\n",
       "    <tr>\n",
       "      <th>DS</th>\n",
       "      <td>1.54</td>\n",
       "    </tr>\n",
       "  </tbody>\n",
       "</table>\n",
       "</div>"
      ],
      "text/plain": [
       "          total_sales\n",
       "platform             \n",
       "PS4            314.14\n",
       "PS3            181.43\n",
       "XOne           159.32\n",
       "3DS            143.25\n",
       "X360           136.80\n",
       "WiiU            64.63\n",
       "PC              39.43\n",
       "PSV             32.99\n",
       "Wii             13.66\n",
       "PSP              3.50\n",
       "DS               1.54"
      ]
     },
     "metadata": {},
     "output_type": "display_data"
    },
    {
     "data": {
      "image/png": "[encoded data removed]",
      "text/plain": [
       "<Figure size 720x360 with 1 Axes>"
      ]
     },
     "metadata": {
      "needs_background": "light"
     },
     "output_type": "display_data"
    }
   ],
   "source": [
    "platforms= data_2.groupby('platform').agg({'total_sales':'sum'})\n",
    "platforms=platforms.sort_values(by ='total_sales', ascending = False)\n",
    "display(platforms)\n",
    "top_10=platforms[:10].index\n",
    "platform_pivot_table_years =data_2.pivot_table(index=['platform','year_of_release'], values = 'total_sales', aggfunc = 'sum')\n",
    "platform_pivot_table_years['years'] =  platform_pivot_table_years.index\n",
    "platform_pivot_table_years['years'] = platform_pivot_table_years['years'].apply (lambda row: row[1]).astype('int')\n",
    "fig, ax = plt.subplots(figsize =(10,5))\n",
    "for platform in top_10:\n",
    "    platform_pivot_table_years.loc[platform].plot('years','total_sales', ax=ax)\n",
    "ax.legend(top_10,prop = {'size':10})\n",
    "plt.show()"
   ]
  },
  {
   "cell_type": "markdown",
   "metadata": {},
   "source": [
    "Вывод: по результатам обработки продаж по платформам, можно сделать вывод, что период появления самых кассовых и исчезновения старых платформ прослеживается в 2004-2006 гг. \n",
    "Потенциально прибыльной платформой может стать PS4 по состоянию на конец 2016 г."
   ]
  },
  {
   "cell_type": "markdown",
   "metadata": {},
   "source": [
    "# Глобальные продажи игр в разбивке по платформам"
   ]
  },
  {
   "cell_type": "code",
   "execution_count": 10,
   "metadata": {
    "scrolled": true
   },
   "outputs": [
    {
     "data": {
      "text/plain": [
       "<AxesSubplot:xlabel='platform', ylabel='total_sales'>"
      ]
     },
     "metadata": {},
     "output_type": "display_data"
    },
    {
     "data": {
      "image/png": "[encoded data removed]",
      "text/plain": [
       "<Figure size 1080x360 with 1 Axes>"
      ]
     },
     "metadata": {
      "needs_background": "light"
     },
     "output_type": "display_data"
    },
    {
     "data": {
      "image/png": "[encoded data removed]",
      "text/plain": [
       "<Figure size 1080x360 with 1 Axes>"
      ]
     },
     "metadata": {
      "needs_background": "light"
     },
     "output_type": "display_data"
    },
    {
     "data": {
      "text/plain": [
       "'PS4'"
      ]
     },
     "metadata": {},
     "output_type": "display_data"
    },
    {
     "data": {
      "text/plain": [
       "count    1229.000000\n",
       "mean        0.551871\n",
       "std         1.394033\n",
       "min         0.010000\n",
       "25%         0.040000\n",
       "50%         0.130000\n",
       "75%         0.430000\n",
       "max        21.050000\n",
       "Name: total_sales, dtype: float64"
      ]
     },
     "metadata": {},
     "output_type": "display_data"
    },
    {
     "data": {
      "text/plain": [
       "'PS3'"
      ]
     },
     "metadata": {},
     "output_type": "display_data"
    },
    {
     "data": {
      "text/plain": [
       "count    837.000000\n",
       "mean       0.435018\n",
       "std        1.264982\n",
       "min        0.010000\n",
       "25%        0.040000\n",
       "50%        0.110000\n",
       "75%        0.350000\n",
       "max       21.050000\n",
       "Name: total_sales, dtype: float64"
      ]
     },
     "metadata": {},
     "output_type": "display_data"
    },
    {
     "data": {
      "text/plain": [
       "'XOne'"
      ]
     },
     "metadata": {},
     "output_type": "display_data"
    },
    {
     "data": {
      "text/plain": [
       "count    2225.000000\n",
       "mean        0.489506\n",
       "std         1.237281\n",
       "min         0.010000\n",
       "25%         0.030000\n",
       "50%         0.110000\n",
       "75%         0.400000\n",
       "max        21.050000\n",
       "Name: total_sales, dtype: float64"
      ]
     },
     "metadata": {},
     "output_type": "display_data"
    },
    {
     "data": {
      "text/plain": [
       "'3DS'"
      ]
     },
     "metadata": {},
     "output_type": "display_data"
    },
    {
     "data": {
      "text/plain": [
       "count    303.000000\n",
       "mean       0.472772\n",
       "std        1.381347\n",
       "min        0.010000\n",
       "25%        0.040000\n",
       "50%        0.090000\n",
       "75%        0.280000\n",
       "max       14.600000\n",
       "Name: total_sales, dtype: float64"
      ]
     },
     "metadata": {},
     "output_type": "display_data"
    },
    {
     "data": {
      "text/plain": [
       "'X360'"
      ]
     },
     "metadata": {},
     "output_type": "display_data"
    },
    {
     "data": {
      "text/plain": [
       "count    1978.000000\n",
       "mean        0.470086\n",
       "std         1.259023\n",
       "min         0.010000\n",
       "25%         0.030000\n",
       "50%         0.100000\n",
       "75%         0.370000\n",
       "max        21.050000\n",
       "Name: total_sales, dtype: float64"
      ]
     },
     "metadata": {},
     "output_type": "display_data"
    },
    {
     "data": {
      "text/plain": [
       "'WiiU'"
      ]
     },
     "metadata": {},
     "output_type": "display_data"
    },
    {
     "data": {
      "text/plain": [
       "count    1792.000000\n",
       "mean        0.442539\n",
       "std         1.206616\n",
       "min         0.010000\n",
       "25%         0.030000\n",
       "50%         0.100000\n",
       "75%         0.330000\n",
       "max        21.050000\n",
       "Name: total_sales, dtype: float64"
      ]
     },
     "metadata": {},
     "output_type": "display_data"
    },
    {
     "data": {
      "text/plain": [
       "'PC'"
      ]
     },
     "metadata": {},
     "output_type": "display_data"
    },
    {
     "data": {
      "text/plain": [
       "count    492.000000\n",
       "mean       0.371301\n",
       "std        1.112517\n",
       "min        0.010000\n",
       "25%        0.030000\n",
       "50%        0.080000\n",
       "75%        0.260000\n",
       "max       14.600000\n",
       "Name: total_sales, dtype: float64"
      ]
     },
     "metadata": {},
     "output_type": "display_data"
    },
    {
     "data": {
      "text/plain": [
       "'PSV'"
      ]
     },
     "metadata": {},
     "output_type": "display_data"
    },
    {
     "data": {
      "text/plain": [
       "count    1654.000000\n",
       "mean        0.432128\n",
       "std         1.220852\n",
       "min         0.010000\n",
       "25%         0.030000\n",
       "50%         0.090000\n",
       "75%         0.300000\n",
       "max        21.050000\n",
       "Name: total_sales, dtype: float64"
      ]
     },
     "metadata": {},
     "output_type": "display_data"
    },
    {
     "data": {
      "text/plain": [
       "'Wii'"
      ]
     },
     "metadata": {},
     "output_type": "display_data"
    },
    {
     "data": {
      "text/plain": [
       "count    1677.000000\n",
       "mean        0.434347\n",
       "std         1.217119\n",
       "min         0.010000\n",
       "25%         0.030000\n",
       "50%         0.090000\n",
       "75%         0.310000\n",
       "max        21.050000\n",
       "Name: total_sales, dtype: float64"
      ]
     },
     "metadata": {},
     "output_type": "display_data"
    },
    {
     "data": {
      "text/plain": [
       "'PSP'"
      ]
     },
     "metadata": {},
     "output_type": "display_data"
    },
    {
     "data": {
      "text/plain": [
       "count    1296.000000\n",
       "mean        0.526042\n",
       "std         1.362063\n",
       "min         0.010000\n",
       "25%         0.040000\n",
       "50%         0.120000\n",
       "75%         0.400000\n",
       "max        21.050000\n",
       "Name: total_sales, dtype: float64"
      ]
     },
     "metadata": {},
     "output_type": "display_data"
    }
   ],
   "source": [
    "temp=data_2.query(\"platform in @top_10\")\n",
    "third = temp['total_sales'].quantile(0.75)\n",
    "first = temp['total_sales'].quantile(0.25)\n",
    "threshold = third+ 2*first\n",
    "fig, ax = plt.subplots(figsize =(15,5))\n",
    "seaborn.boxplot(x = 'platform', y = 'total_sales', data = temp.query('total_sales <= @threshold'),ax=ax) \n",
    "fig, ax = plt.subplots(figsize =(15,5))\n",
    "plt.ylim([0, temp['total_sales'].quantile(0.75).max()])\n",
    "display(seaborn.boxplot(x = 'platform', y = 'total_sales', data = temp.query('total_sales <= @threshold'),ax=ax))\n",
    "plt.show()\n",
    "\n",
    "\n",
    "for device in top_10:\n",
    "    display(device)\n",
    "    platform_describe=temp.query('platform <= @device')\n",
    "    display(platform_describe['total_sales'].describe())"
   ]
  },
  {
   "cell_type": "markdown",
   "metadata": {},
   "source": [
    "Вывод: Наиболее неравномерное распределение по продажам относительно медианы характерно PC. "
   ]
  },
  {
   "cell_type": "markdown",
   "metadata": {},
   "source": [
    "# Влияние на продажи внутри одной популярной платформы отзывов пользователей и критиков"
   ]
  },
  {
   "cell_type": "code",
   "execution_count": 11,
   "metadata": {},
   "outputs": [
    {
     "data": {
      "image/png": "[encoded data removed]",
      "text/plain": [
       "<Figure size 1440x504 with 2 Axes>"
      ]
     },
     "metadata": {
      "needs_background": "light"
     },
     "output_type": "display_data"
    },
    {
     "data": {
      "text/plain": [
       "'PS4'"
      ]
     },
     "metadata": {},
     "output_type": "display_data"
    },
    {
     "data": {
      "text/plain": [
       "'корреляция между отзывами критиков и продажами '"
      ]
     },
     "metadata": {},
     "output_type": "display_data"
    },
    {
     "data": {
      "text/plain": [
       "0.40656790206178095"
      ]
     },
     "metadata": {},
     "output_type": "display_data"
    },
    {
     "data": {
      "text/plain": [
       "'корреляция между отзывами пользователей и продажами '"
      ]
     },
     "metadata": {},
     "output_type": "display_data"
    },
    {
     "data": {
      "text/plain": [
       "-0.031957110204556376"
      ]
     },
     "metadata": {},
     "output_type": "display_data"
    },
    {
     "data": {
      "image/png": "[encoded data removed]",
      "text/plain": [
       "<Figure size 1440x504 with 2 Axes>"
      ]
     },
     "metadata": {
      "needs_background": "light"
     },
     "output_type": "display_data"
    },
    {
     "data": {
      "text/plain": [
       "'PS3'"
      ]
     },
     "metadata": {},
     "output_type": "display_data"
    },
    {
     "data": {
      "text/plain": [
       "'корреляция между отзывами критиков и продажами '"
      ]
     },
     "metadata": {},
     "output_type": "display_data"
    },
    {
     "data": {
      "text/plain": [
       "0.3342853393371919"
      ]
     },
     "metadata": {},
     "output_type": "display_data"
    },
    {
     "data": {
      "text/plain": [
       "'корреляция между отзывами пользователей и продажами '"
      ]
     },
     "metadata": {},
     "output_type": "display_data"
    },
    {
     "data": {
      "text/plain": [
       "0.0023944027357566925"
      ]
     },
     "metadata": {},
     "output_type": "display_data"
    },
    {
     "data": {
      "image/png": "[encoded data removed]",
      "text/plain": [
       "<Figure size 1440x504 with 2 Axes>"
      ]
     },
     "metadata": {
      "needs_background": "light"
     },
     "output_type": "display_data"
    },
    {
     "data": {
      "text/plain": [
       "'XOne'"
      ]
     },
     "metadata": {},
     "output_type": "display_data"
    },
    {
     "data": {
      "text/plain": [
       "'корреляция между отзывами критиков и продажами '"
      ]
     },
     "metadata": {},
     "output_type": "display_data"
    },
    {
     "data": {
      "text/plain": [
       "0.4169983280084017"
      ]
     },
     "metadata": {},
     "output_type": "display_data"
    },
    {
     "data": {
      "text/plain": [
       "'корреляция между отзывами пользователей и продажами '"
      ]
     },
     "metadata": {},
     "output_type": "display_data"
    },
    {
     "data": {
      "text/plain": [
       "-0.06892505328279414"
      ]
     },
     "metadata": {},
     "output_type": "display_data"
    }
   ],
   "source": [
    "def marks (device,data_device):\n",
    "    fig, (ax,ax2) = plt.subplots(2,1, figsize = (20,7))\n",
    "    ax.scatter(y= 'critic_score', x = 'total_sales',data =data_2.query('platform==@device').dropna())\n",
    "    ax2.scatter(y= 'user_score', x = 'total_sales',data =data_2.query('platform == @device').dropna())\n",
    "    plt.show()\n",
    "    scores= data_device.query('platform == @device')[['critic_score','user_score','total_sales']]\n",
    "    scores['critic_score'] = np.floor(pd.to_numeric(scores['critic_score'], errors='coerce')).astype('float64')\n",
    "    display(device)\n",
    "    display('корреляция между отзывами критиков и продажами ',scores['critic_score'].corr(scores['total_sales']))\n",
    "    display('корреляция между отзывами пользователей и продажами ',scores['user_score'].corr(scores['total_sales']))\n",
    "    \n",
    "for platform in top_10[:3]:\n",
    "    marks(platform,data_2)"
   ]
  },
  {
   "cell_type": "markdown",
   "metadata": {},
   "source": [
    "Вывод: Оценки критиков демонстрируют прямую, слабую положительную корреляцию с \"цифрами\" продаж. Оценки пользователей корреляции с продажами не имеют для всех топ-3 платформ"
   ]
  },
  {
   "cell_type": "markdown",
   "metadata": {},
   "source": [
    "# Общее распределение игр по жанрам"
   ]
  },
  {
   "cell_type": "code",
   "execution_count": 12,
   "metadata": {},
   "outputs": [
    {
     "data": {
      "text/html": [
       "<div>\n",
       "<style scoped>\n",
       "    .dataframe tbody tr th:only-of-type {\n",
       "        vertical-align: middle;\n",
       "    }\n",
       "\n",
       "    .dataframe tbody tr th {\n",
       "        vertical-align: top;\n",
       "    }\n",
       "\n",
       "    .dataframe thead th {\n",
       "        text-align: right;\n",
       "    }\n",
       "</style>\n",
       "<table border=\"1\" class=\"dataframe\">\n",
       "  <thead>\n",
       "    <tr style=\"text-align: right;\">\n",
       "      <th></th>\n",
       "      <th>genre</th>\n",
       "      <th>count</th>\n",
       "      <th>median</th>\n",
       "      <th>sum</th>\n",
       "    </tr>\n",
       "  </thead>\n",
       "  <tbody>\n",
       "    <tr>\n",
       "      <th>0</th>\n",
       "      <td>Action</td>\n",
       "      <td>766</td>\n",
       "      <td>0.110</td>\n",
       "      <td>321.87</td>\n",
       "    </tr>\n",
       "    <tr>\n",
       "      <th>8</th>\n",
       "      <td>Shooter</td>\n",
       "      <td>187</td>\n",
       "      <td>0.450</td>\n",
       "      <td>232.98</td>\n",
       "    </tr>\n",
       "    <tr>\n",
       "      <th>10</th>\n",
       "      <td>Sports</td>\n",
       "      <td>214</td>\n",
       "      <td>0.240</td>\n",
       "      <td>150.65</td>\n",
       "    </tr>\n",
       "    <tr>\n",
       "      <th>7</th>\n",
       "      <td>Role-Playing</td>\n",
       "      <td>292</td>\n",
       "      <td>0.125</td>\n",
       "      <td>145.89</td>\n",
       "    </tr>\n",
       "    <tr>\n",
       "      <th>3</th>\n",
       "      <td>Misc</td>\n",
       "      <td>155</td>\n",
       "      <td>0.100</td>\n",
       "      <td>62.82</td>\n",
       "    </tr>\n",
       "    <tr>\n",
       "      <th>4</th>\n",
       "      <td>Platform</td>\n",
       "      <td>74</td>\n",
       "      <td>0.225</td>\n",
       "      <td>42.63</td>\n",
       "    </tr>\n",
       "    <tr>\n",
       "      <th>6</th>\n",
       "      <td>Racing</td>\n",
       "      <td>85</td>\n",
       "      <td>0.120</td>\n",
       "      <td>39.89</td>\n",
       "    </tr>\n",
       "    <tr>\n",
       "      <th>2</th>\n",
       "      <td>Fighting</td>\n",
       "      <td>80</td>\n",
       "      <td>0.125</td>\n",
       "      <td>35.31</td>\n",
       "    </tr>\n",
       "    <tr>\n",
       "      <th>1</th>\n",
       "      <td>Adventure</td>\n",
       "      <td>245</td>\n",
       "      <td>0.030</td>\n",
       "      <td>23.64</td>\n",
       "    </tr>\n",
       "    <tr>\n",
       "      <th>9</th>\n",
       "      <td>Simulation</td>\n",
       "      <td>62</td>\n",
       "      <td>0.100</td>\n",
       "      <td>21.76</td>\n",
       "    </tr>\n",
       "    <tr>\n",
       "      <th>11</th>\n",
       "      <td>Strategy</td>\n",
       "      <td>56</td>\n",
       "      <td>0.080</td>\n",
       "      <td>10.08</td>\n",
       "    </tr>\n",
       "    <tr>\n",
       "      <th>5</th>\n",
       "      <td>Puzzle</td>\n",
       "      <td>17</td>\n",
       "      <td>0.060</td>\n",
       "      <td>3.17</td>\n",
       "    </tr>\n",
       "  </tbody>\n",
       "</table>\n",
       "</div>"
      ],
      "text/plain": [
       "           genre  count  median     sum\n",
       "0         Action    766   0.110  321.87\n",
       "8        Shooter    187   0.450  232.98\n",
       "10        Sports    214   0.240  150.65\n",
       "7   Role-Playing    292   0.125  145.89\n",
       "3           Misc    155   0.100   62.82\n",
       "4       Platform     74   0.225   42.63\n",
       "6         Racing     85   0.120   39.89\n",
       "2       Fighting     80   0.125   35.31\n",
       "1      Adventure    245   0.030   23.64\n",
       "9     Simulation     62   0.100   21.76\n",
       "11      Strategy     56   0.080   10.08\n",
       "5         Puzzle     17   0.060    3.17"
      ]
     },
     "metadata": {},
     "output_type": "display_data"
    }
   ],
   "source": [
    "genre= pd.pivot_table(data_2, index='genre', values='total_sales', aggfunc=['count','median','sum'])\n",
    "genre=genre.reset_index()\n",
    "genre.columns=['genre','count','median','sum']\n",
    "genre=genre.sort_values(by='sum', ascending = False)\n",
    "display(genre)"
   ]
  },
  {
   "cell_type": "markdown",
   "metadata": {},
   "source": [
    "Вывод: Суммы продаж наибольшие для игр жанра \"Action\", но медиана составляет 0,22, а для следующего по топу жанра \"Shotter\" составляет уже 0,605. Можно сделать вывод, что для игр жанра \"Action\" больше всего игр с большими продажами, но медиана меньше."
   ]
  },
  {
   "cell_type": "markdown",
   "metadata": {},
   "source": [
    "# Шаг 4. Составление портрета пользователя каждого региона"
   ]
  },
  {
   "cell_type": "markdown",
   "metadata": {},
   "source": [
    "# Самые популярные платформы (топ-5)"
   ]
  },
  {
   "cell_type": "code",
   "execution_count": 13,
   "metadata": {},
   "outputs": [
    {
     "data": {
      "image/png": "[encoded data removed]",
      "text/plain": [
       "<Figure size 360x360 with 1 Axes>"
      ]
     },
     "metadata": {},
     "output_type": "display_data"
    },
    {
     "data": {
      "image/png": "[encoded data removed]",
      "text/plain": [
       "<Figure size 360x360 with 1 Axes>"
      ]
     },
     "metadata": {},
     "output_type": "display_data"
    },
    {
     "data": {
      "image/png": "[encoded data removed]",
      "text/plain": [
       "<Figure size 360x360 with 1 Axes>"
      ]
     },
     "metadata": {},
     "output_type": "display_data"
    },
    {
     "data": {
      "image/png": "[encoded data removed]",
      "text/plain": [
       "<Figure size 360x360 with 1 Axes>"
      ]
     },
     "metadata": {},
     "output_type": "display_data"
    }
   ],
   "source": [
    "def platform_top5_region (region,data_frame):\n",
    "    platforms= pd.pivot_table(data_frame, index='platform', values=region, aggfunc='sum')\n",
    "    platforms=platforms.sort_values(by =region, ascending = False)\n",
    "    top_5=platforms[:5]\n",
    "    label=platforms[:5].index\n",
    "    top_5.plot.pie(y=region ,labels=label,figsize=(5, 5),autopct='%1.1f%%')\n",
    "    plt.show()\n",
    "platform_top5_region('na_sales',data_2)\n",
    "platform_top5_region('eu_sales',data_2)\n",
    "platform_top5_region('jp_sales',data_2)\n",
    "platform_top5_region('other_sales',data_2)"
   ]
  },
  {
   "cell_type": "markdown",
   "metadata": {},
   "source": [
    "Вывод: По долям продаж наиболее продаваемых игр для платформ можно сделать вывод, что лидер на японском рынке 3DS, на остальных рынках лидер PS4."
   ]
  },
  {
   "cell_type": "markdown",
   "metadata": {},
   "source": [
    "# Самые популярные жанры (топ-5)"
   ]
  },
  {
   "cell_type": "code",
   "execution_count": 14,
   "metadata": {},
   "outputs": [
    {
     "data": {
      "image/png": "[encoded data removed]",
      "text/plain": [
       "<Figure size 360x360 with 1 Axes>"
      ]
     },
     "metadata": {},
     "output_type": "display_data"
    },
    {
     "data": {
      "image/png": "[encoded data removed]",
      "text/plain": [
       "<Figure size 360x360 with 1 Axes>"
      ]
     },
     "metadata": {},
     "output_type": "display_data"
    },
    {
     "data": {
      "image/png": "[encoded data removed]",
      "text/plain": [
       "<Figure size 360x360 with 1 Axes>"
      ]
     },
     "metadata": {},
     "output_type": "display_data"
    },
    {
     "data": {
      "image/png": "[encoded data removed]",
      "text/plain": [
       "<Figure size 360x360 with 1 Axes>"
      ]
     },
     "metadata": {},
     "output_type": "display_data"
    }
   ],
   "source": [
    "def genre_top5_region (region,data_frame):\n",
    "    genre= pd.pivot_table(data_frame, index='genre', values=region, aggfunc='sum')\n",
    "    genre=genre.sort_values(by =region, ascending = False)\n",
    "    top_5=genre[:5]\n",
    "    label=genre[:5].index\n",
    "    top_5.plot.pie(y=region ,labels=label,figsize=(5, 5),autopct='%1.1f%%')\n",
    "    plt.show()\n",
    "genre_top5_region('na_sales',data_2)\n",
    "genre_top5_region('eu_sales',data_2)\n",
    "genre_top5_region('jp_sales',data_2)\n",
    "genre_top5_region('other_sales',data_2)"
   ]
  },
  {
   "cell_type": "markdown",
   "metadata": {},
   "source": [
    "Вывод: Для рынков Европы и Америки наиболее востребованы игры жанров: action, sports, shooter. Для японского же рынка характерен топ-3: role-playing, action, misc"
   ]
  },
  {
   "cell_type": "markdown",
   "metadata": {},
   "source": [
    "# Оценка влияния рейтинга ESRB на продажи в отдельном регионе"
   ]
  },
  {
   "cell_type": "code",
   "execution_count": 15,
   "metadata": {},
   "outputs": [
    {
     "data": {
      "image/png": "[encoded data removed]",
      "text/plain": [
       "<Figure size 432x288 with 1 Axes>"
      ]
     },
     "metadata": {
      "needs_background": "light"
     },
     "output_type": "display_data"
    },
    {
     "data": {
      "image/png": "[encoded data removed]",
      "text/plain": [
       "<Figure size 432x288 with 1 Axes>"
      ]
     },
     "metadata": {
      "needs_background": "light"
     },
     "output_type": "display_data"
    },
    {
     "data": {
      "image/png": "[encoded data removed]",
      "text/plain": [
       "<Figure size 432x288 with 1 Axes>"
      ]
     },
     "metadata": {
      "needs_background": "light"
     },
     "output_type": "display_data"
    },
    {
     "data": {
      "image/png": "[encoded data removed]",
      "text/plain": [
       "<Figure size 432x288 with 1 Axes>"
      ]
     },
     "metadata": {
      "needs_background": "light"
     },
     "output_type": "display_data"
    }
   ],
   "source": [
    "def rating_top5_region (region,data_frame):\n",
    "    rating= pd.pivot_table(data_frame, index='rating', values=region, aggfunc='sum')\n",
    "    rating=rating.sort_values(by=region, ascending = False)\n",
    "    rating.columns=['sum']\n",
    "    rating.plot(y='sum', style='-o',title=region)\n",
    "    plt.show()\n",
    "    \n",
    "rating_top5_region('na_sales',data_2)\n",
    "rating_top5_region('eu_sales',data_2)\n",
    "rating_top5_region('jp_sales',data_2)\n",
    "rating_top5_region('other_sales',data_2)"
   ]
  },
  {
   "cell_type": "markdown",
   "metadata": {},
   "source": [
    "Вывод: Обьемы продаж намного больше для игр с рейтингами E,M,T, чем для игр с\n",
    "рейтингом E10+. Для японского рынка много лидеров продаж без рейтинга. Можно предположить, что данные игры не выходят на мировой рынок и не оцениваются соответственно. "
   ]
  },
  {
   "cell_type": "markdown",
   "metadata": {},
   "source": [
    "# Шаг 5. Проверка гипотез"
   ]
  },
  {
   "cell_type": "markdown",
   "metadata": {},
   "source": [
    "Средние пользовательские рейтинги платформ Xbox One и PC одинаковые"
   ]
  },
  {
   "cell_type": "markdown",
   "metadata": {},
   "source": [
    "нулевая гипотеза: средние пользовательские рейтинги платформ Xbox One и PC одинаковые\n",
    "\n",
    "альтернартивная гипотеза: средние пользовательские рейтинги платформ Xbox One и PC разные"
   ]
  },
  {
   "cell_type": "code",
   "execution_count": 16,
   "metadata": {},
   "outputs": [
    {
     "name": "stdout",
     "output_type": "stream",
     "text": [
      "p-value: nan\n",
      "Нет оснований отвергнуть нулевую гипотезу\n"
     ]
    }
   ],
   "source": [
    "# задаём уровень значимости\n",
    "alpha = 0.05\n",
    "# проводим ttest для двух выборок, в качестве альтернативной используем одностороннюю гипотезу «больше»\n",
    "results = st.ttest_ind(data.query('platform == \"XOne\"')['user_score'],data.query('platform == \"PC\"')['user_score'])\n",
    "print(f'p-value: {results.pvalue}')\n",
    "# проверяем p-value\n",
    "if results.pvalue < alpha:\n",
    "    print('Отвергаем нулевую гипотезу')\n",
    "else:\n",
    "    print('Нет оснований отвергнуть нулевую гипотезу')"
   ]
  },
  {
   "cell_type": "markdown",
   "metadata": {},
   "source": [
    "Вывод: Средние пользовательские рейтинги платформ Xbox One и PC разные"
   ]
  },
  {
   "cell_type": "markdown",
   "metadata": {},
   "source": [
    "# Средние пользовательские рейтинги жанров Action (англ. «действие», экшен-игры) и Sports (англ. «спортивные соревнования») разные"
   ]
  },
  {
   "cell_type": "markdown",
   "metadata": {},
   "source": [
    "Нулевая гипотеза: средние пользовательские рейтинги жанров Action (англ. «действие», экшен-игры) и Sports (англ. «спортивные соревнования») равны\n",
    "\n",
    "Альтернативная гипотеза: средние пользовательские рейтинги жанров Action (англ. «действие», экшен-игры) и Sports (англ. «спортивные соревнования») разные"
   ]
  },
  {
   "cell_type": "code",
   "execution_count": 17,
   "metadata": {},
   "outputs": [
    {
     "name": "stdout",
     "output_type": "stream",
     "text": [
      "p-value: nan\n",
      "Нет оснований отвергнуть нулевую гипотезу\n"
     ]
    }
   ],
   "source": [
    "# задаём уровень значимости\n",
    "alpha = 0.05\n",
    "# проводим ttest для двух выборок, в качестве альтернативной используем одностороннюю гипотезу «больше»\n",
    "results = st.ttest_ind(data.query('genre == \"Action\"')['user_score'],data.query('genre == \"Sports\"')['user_score'])\n",
    "print(f'p-value: {results.pvalue}')\n",
    "# проверяем p-value\n",
    "if results.pvalue < alpha:\n",
    "    print('Отвергаем нулевую гипотезу')\n",
    "else:\n",
    "    print('Нет оснований отвергнуть нулевую гипотезу')"
   ]
  },
  {
   "cell_type": "markdown",
   "metadata": {},
   "source": [
    "Вывод: средние пользовательские рейтинги жанров Action и Sports равны"
   ]
  },
  {
   "cell_type": "markdown",
   "metadata": {},
   "source": [
    "# Шаг 6. Общий вывод"
   ]
  },
  {
   "cell_type": "markdown",
   "metadata": {},
   "source": [
    "Общий вывод: \n",
    "\n",
    "из открытых источников доступны исторические данные о продажах игр, оценки пользователей и экспертов, жанры и платформы (например, Xbox или PlayStation). Вам нужно выявить определяющие успешность игры закономерности. Это позволит сделать ставку на потенциально популярный продукт и спланировать рекламные кампании.\n",
    "\n",
    "в столбцах critic_score, year_of_release изменен формат данных в int\n",
    "\n",
    "значение tbd заменено на NaN. Год релиза, оценка критиков,\n",
    "пользователей и рейтинг не могут быть подставлены по медианному или среднему\n",
    "значению, поэтому не были удалены или заменены на средние. Возможно оценка для каждой игры появляется на основании какого-то количества оценок пользователей и критиков, а для некоторых игр данная цифра не достигается, поэтому результирующая оценка и не отображается в датафрейме. \n",
    "\n",
    "tbd- расшифровывается с ангилийского \"to be defined\". Оценка еще не выставлена.\n",
    "\n",
    "актуальный период взят за 2013-2016 гг. для последующих расчетов, т.к. индустрия игр стремительно развивается.\n",
    "\n",
    "по результатам обработки продаж по платформам, можно сделать вывод, что период появления самых кассовых и исчезновения старых платформ прослеживается в 2004-2006 гг.  Потенциально прибыльной платформой может стать PS4 по состоянию на конец 2016 г.\n",
    "\n",
    "наиболее неравномерное распределение по продажам относительно медианы характерно PC.\n",
    "\n",
    "оценки критиков демонстрируют прямую, слабую положительную корреляцию с \"цифрами\" продаж. Оценки пользователей корреляции с продажами не имеют для всех топ-3 платформ\n",
    "\n",
    "суммы продаж наибольшие для игр жанра \"Action\", но медиана составляет 0,22, а для следующего по топу жанра \"Shotter\" составляет уже 0,605. Можно сделать вывод, что для игр жанра \"Action\" больше всего игр с большими продажами, но медиана меньше.\n",
    "\n",
    "по долям продаж наиболее продаваемых игр для платформ можно сделать вывод, что лидер на японском рынке 3DS, на остальных рынках лидер PS4.\n",
    "\n",
    "для рынков Европы и Америки наиболее востребованы игры жанров: action, sports, shooter. Для японского же рынка характерен топ-3: role-playing, action, misc\n",
    "\n",
    "обьемы продаж намного больше для игр с рейтингами E,M,T, чем для игр с\n",
    "рейтингом E10+. Для японского рынка много лидеров продаж без рейтинга. Можно предположить, что данные игры не выходят на мировой рынок и не оцениваются соответственно.\n",
    "\n",
    "средние пользовательские рейтинги платформ Xbox One и PC разные\n",
    "\n",
    "средние пользовательские рейтинги жанров Action и Sports равны"
   ]
  }
 ],
 "metadata": {
  "ExecuteTimeLog": [
   {
    "duration": 3,
    "start_time": "2023-08-10T05:33:27.012Z"
   },
   {
    "duration": 1160,
    "start_time": "2023-08-10T05:34:15.609Z"
   },
   {
    "duration": 259,
    "start_time": "2023-08-10T05:34:46.503Z"
   },
   {
    "duration": 68,
    "start_time": "2023-08-10T05:35:45.749Z"
   },
   {
    "duration": 157,
    "start_time": "2023-08-10T05:41:19.033Z"
   },
   {
    "duration": 80,
    "start_time": "2023-08-10T05:41:26.872Z"
   },
   {
    "duration": 59,
    "start_time": "2023-08-10T05:42:16.701Z"
   },
   {
    "duration": 70,
    "start_time": "2023-08-10T05:42:50.207Z"
   },
   {
    "duration": 74,
    "start_time": "2023-08-10T05:43:47.487Z"
   },
   {
    "duration": 70,
    "start_time": "2023-08-10T05:43:52.454Z"
   },
   {
    "duration": 3,
    "start_time": "2023-08-10T05:43:56.288Z"
   },
   {
    "duration": 56,
    "start_time": "2023-08-10T05:43:56.293Z"
   },
   {
    "duration": 64,
    "start_time": "2023-08-10T05:44:05.547Z"
   },
   {
    "duration": 65,
    "start_time": "2023-08-10T05:44:14.464Z"
   },
   {
    "duration": 66,
    "start_time": "2023-08-10T05:45:01.972Z"
   },
   {
    "duration": 3,
    "start_time": "2023-08-10T05:45:08.798Z"
   },
   {
    "duration": 85,
    "start_time": "2023-08-10T05:45:08.803Z"
   },
   {
    "duration": 55,
    "start_time": "2023-08-10T05:45:36.418Z"
   },
   {
    "duration": 3,
    "start_time": "2023-08-10T05:45:39.903Z"
   },
   {
    "duration": 71,
    "start_time": "2023-08-10T05:45:39.908Z"
   },
   {
    "duration": 62,
    "start_time": "2023-08-10T05:45:46.971Z"
   },
   {
    "duration": 13,
    "start_time": "2023-08-10T05:46:49.244Z"
   },
   {
    "duration": 54,
    "start_time": "2023-08-10T05:46:55.290Z"
   },
   {
    "duration": 13,
    "start_time": "2023-08-10T05:47:05.709Z"
   },
   {
    "duration": 3,
    "start_time": "2023-08-10T05:47:09.085Z"
   },
   {
    "duration": 74,
    "start_time": "2023-08-10T05:47:09.091Z"
   },
   {
    "duration": 15,
    "start_time": "2023-08-10T05:47:09.167Z"
   },
   {
    "duration": 64,
    "start_time": "2023-08-10T05:47:16.784Z"
   },
   {
    "duration": 119,
    "start_time": "2023-08-10T05:55:34.167Z"
   },
   {
    "duration": 109,
    "start_time": "2023-08-10T05:55:50.938Z"
   },
   {
    "duration": 23,
    "start_time": "2023-08-10T05:56:11.790Z"
   },
   {
    "duration": 47,
    "start_time": "2023-08-10T05:56:19.178Z"
   },
   {
    "duration": 48,
    "start_time": "2023-08-10T05:56:28.443Z"
   },
   {
    "duration": 18,
    "start_time": "2023-08-10T05:59:12.321Z"
   },
   {
    "duration": 28,
    "start_time": "2023-08-10T05:59:50.737Z"
   },
   {
    "duration": 60,
    "start_time": "2023-08-10T08:46:54.074Z"
   },
   {
    "duration": 7,
    "start_time": "2023-08-10T08:46:59.338Z"
   },
   {
    "duration": 1218,
    "start_time": "2023-08-10T08:47:05.297Z"
   },
   {
    "duration": 279,
    "start_time": "2023-08-10T08:47:06.517Z"
   },
   {
    "duration": 34,
    "start_time": "2023-08-10T08:47:06.798Z"
   },
   {
    "duration": 33,
    "start_time": "2023-08-10T08:47:33.618Z"
   },
   {
    "duration": 8,
    "start_time": "2023-08-10T08:48:46.711Z"
   },
   {
    "duration": 3,
    "start_time": "2023-08-10T08:48:51.882Z"
   },
   {
    "duration": 233,
    "start_time": "2023-08-10T08:48:51.887Z"
   },
   {
    "duration": 127,
    "start_time": "2023-08-10T08:48:52.122Z"
   },
   {
    "duration": 150,
    "start_time": "2023-08-10T08:48:52.251Z"
   },
   {
    "duration": 15,
    "start_time": "2023-08-10T08:49:03.890Z"
   },
   {
    "duration": 3,
    "start_time": "2023-08-10T08:49:09.573Z"
   },
   {
    "duration": 66,
    "start_time": "2023-08-10T08:49:09.578Z"
   },
   {
    "duration": 26,
    "start_time": "2023-08-10T08:49:09.645Z"
   },
   {
    "duration": 6,
    "start_time": "2023-08-10T08:49:09.673Z"
   },
   {
    "duration": 7,
    "start_time": "2023-08-10T08:53:11.579Z"
   },
   {
    "duration": 73,
    "start_time": "2023-08-10T08:53:11.592Z"
   },
   {
    "duration": 22,
    "start_time": "2023-08-10T08:53:11.666Z"
   },
   {
    "duration": 7,
    "start_time": "2023-08-10T08:53:11.690Z"
   },
   {
    "duration": 14,
    "start_time": "2023-08-10T08:53:17.077Z"
   },
   {
    "duration": 20,
    "start_time": "2023-08-10T08:53:23.398Z"
   },
   {
    "duration": 9,
    "start_time": "2023-08-10T08:56:10.976Z"
   },
   {
    "duration": 19,
    "start_time": "2023-08-10T08:58:14.275Z"
   },
   {
    "duration": 26,
    "start_time": "2023-08-10T08:58:24.877Z"
   },
   {
    "duration": 15,
    "start_time": "2023-08-10T08:58:33.586Z"
   },
   {
    "duration": 17,
    "start_time": "2023-08-10T09:03:02.616Z"
   },
   {
    "duration": 20,
    "start_time": "2023-08-10T09:03:12.875Z"
   },
   {
    "duration": 20,
    "start_time": "2023-08-10T09:03:48.011Z"
   },
   {
    "duration": 2280,
    "start_time": "2023-08-10T09:04:02.474Z"
   },
   {
    "duration": 29,
    "start_time": "2023-08-10T09:04:09.395Z"
   },
   {
    "duration": 42,
    "start_time": "2023-08-10T09:06:05.636Z"
   },
   {
    "duration": 16,
    "start_time": "2023-08-10T09:06:11.683Z"
   },
   {
    "duration": 209,
    "start_time": "2023-08-10T09:06:44.901Z"
   },
   {
    "duration": 28,
    "start_time": "2023-08-10T09:06:50.820Z"
   },
   {
    "duration": 41,
    "start_time": "2023-08-10T09:06:59.590Z"
   },
   {
    "duration": 13,
    "start_time": "2023-08-10T09:07:10.414Z"
   },
   {
    "duration": 24,
    "start_time": "2023-08-10T09:07:18.906Z"
   },
   {
    "duration": 15,
    "start_time": "2023-08-10T09:08:50.784Z"
   },
   {
    "duration": 18,
    "start_time": "2023-08-10T09:10:19.918Z"
   },
   {
    "duration": 11,
    "start_time": "2023-08-10T09:21:19.928Z"
   },
   {
    "duration": 293,
    "start_time": "2023-08-10T09:21:30.721Z"
   },
   {
    "duration": 6,
    "start_time": "2023-08-10T09:22:55.231Z"
   },
   {
    "duration": 11,
    "start_time": "2023-08-10T09:27:53.136Z"
   },
   {
    "duration": 21,
    "start_time": "2023-08-10T09:28:11.018Z"
   },
   {
    "duration": 0,
    "start_time": "2023-08-10T09:28:32.782Z"
   },
   {
    "duration": 3,
    "start_time": "2023-08-10T09:28:41.181Z"
   },
   {
    "duration": 86,
    "start_time": "2023-08-10T09:28:41.186Z"
   },
   {
    "duration": 18,
    "start_time": "2023-08-10T09:28:41.274Z"
   },
   {
    "duration": 19,
    "start_time": "2023-08-10T09:28:41.295Z"
   },
   {
    "duration": 43,
    "start_time": "2023-08-10T09:28:41.317Z"
   },
   {
    "duration": 19,
    "start_time": "2023-08-10T09:28:41.365Z"
   },
   {
    "duration": 17,
    "start_time": "2023-08-10T09:28:41.386Z"
   },
   {
    "duration": 193,
    "start_time": "2023-08-10T09:28:41.405Z"
   },
   {
    "duration": 5,
    "start_time": "2023-08-10T09:28:41.602Z"
   },
   {
    "duration": 50,
    "start_time": "2023-08-10T09:28:41.609Z"
   },
   {
    "duration": 2056,
    "start_time": "2023-08-10T09:29:15.220Z"
   },
   {
    "duration": 3,
    "start_time": "2023-08-10T09:29:26.491Z"
   },
   {
    "duration": 85,
    "start_time": "2023-08-10T09:29:26.496Z"
   },
   {
    "duration": 19,
    "start_time": "2023-08-10T09:29:26.584Z"
   },
   {
    "duration": 27,
    "start_time": "2023-08-10T09:29:26.605Z"
   },
   {
    "duration": 40,
    "start_time": "2023-08-10T09:29:26.635Z"
   },
   {
    "duration": 14,
    "start_time": "2023-08-10T09:29:26.676Z"
   },
   {
    "duration": 19,
    "start_time": "2023-08-10T09:29:26.692Z"
   },
   {
    "duration": 184,
    "start_time": "2023-08-10T09:29:26.712Z"
   },
   {
    "duration": 5,
    "start_time": "2023-08-10T09:29:26.897Z"
   },
   {
    "duration": 35,
    "start_time": "2023-08-10T09:29:26.904Z"
   },
   {
    "duration": 1407,
    "start_time": "2023-08-10T09:30:38.702Z"
   },
   {
    "duration": 1426,
    "start_time": "2023-08-10T09:32:43.685Z"
   },
   {
    "duration": 1399,
    "start_time": "2023-08-10T09:32:51.484Z"
   },
   {
    "duration": 1379,
    "start_time": "2023-08-10T09:32:57.198Z"
   },
   {
    "duration": 1404,
    "start_time": "2023-08-10T09:33:40.506Z"
   },
   {
    "duration": 1517,
    "start_time": "2023-08-10T09:34:13.908Z"
   },
   {
    "duration": 1320,
    "start_time": "2023-08-10T09:34:54.187Z"
   },
   {
    "duration": 1565,
    "start_time": "2023-08-10T09:36:30.136Z"
   },
   {
    "duration": 1215,
    "start_time": "2023-08-10T09:36:40.023Z"
   },
   {
    "duration": 1579,
    "start_time": "2023-08-10T09:36:46.141Z"
   },
   {
    "duration": 1425,
    "start_time": "2023-08-10T09:37:16.209Z"
   },
   {
    "duration": 1275,
    "start_time": "2023-08-10T09:37:24.402Z"
   },
   {
    "duration": 1467,
    "start_time": "2023-08-10T09:37:35.178Z"
   },
   {
    "duration": 46,
    "start_time": "2023-08-10T09:38:04.179Z"
   },
   {
    "duration": 44,
    "start_time": "2023-08-10T09:38:15.134Z"
   },
   {
    "duration": 43,
    "start_time": "2023-08-10T09:39:24.512Z"
   },
   {
    "duration": 1281,
    "start_time": "2023-08-10T09:39:36.989Z"
   },
   {
    "duration": 1579,
    "start_time": "2023-08-10T09:39:53.883Z"
   },
   {
    "duration": 1548,
    "start_time": "2023-08-10T09:40:02.781Z"
   },
   {
    "duration": 1332,
    "start_time": "2023-08-10T09:40:11.988Z"
   },
   {
    "duration": 1619,
    "start_time": "2023-08-10T09:40:22.079Z"
   },
   {
    "duration": 1265,
    "start_time": "2023-08-10T09:41:09.686Z"
   },
   {
    "duration": 1687,
    "start_time": "2023-08-10T09:41:31.323Z"
   },
   {
    "duration": 3,
    "start_time": "2023-08-10T09:41:38.386Z"
   },
   {
    "duration": 77,
    "start_time": "2023-08-10T09:41:38.391Z"
   },
   {
    "duration": 27,
    "start_time": "2023-08-10T09:41:38.473Z"
   },
   {
    "duration": 22,
    "start_time": "2023-08-10T09:41:38.502Z"
   },
   {
    "duration": 42,
    "start_time": "2023-08-10T09:41:38.525Z"
   },
   {
    "duration": 23,
    "start_time": "2023-08-10T09:41:38.572Z"
   },
   {
    "duration": 20,
    "start_time": "2023-08-10T09:41:38.597Z"
   },
   {
    "duration": 206,
    "start_time": "2023-08-10T09:41:38.619Z"
   },
   {
    "duration": 1571,
    "start_time": "2023-08-10T09:41:38.826Z"
   },
   {
    "duration": 27,
    "start_time": "2023-08-10T09:47:24.991Z"
   },
   {
    "duration": 18,
    "start_time": "2023-08-10T09:47:33.393Z"
   },
   {
    "duration": 5,
    "start_time": "2023-08-10T09:49:01.883Z"
   },
   {
    "duration": 35,
    "start_time": "2023-08-10T09:50:21.413Z"
   },
   {
    "duration": 25,
    "start_time": "2023-08-10T09:50:38.994Z"
   },
   {
    "duration": 23,
    "start_time": "2023-08-10T09:50:48.077Z"
   },
   {
    "duration": 127,
    "start_time": "2023-08-10T09:51:01.774Z"
   },
   {
    "duration": 209,
    "start_time": "2023-08-10T09:52:29.975Z"
   },
   {
    "duration": 2001,
    "start_time": "2023-08-10T09:52:52.037Z"
   },
   {
    "duration": 2295,
    "start_time": "2023-08-10T09:53:21.882Z"
   },
   {
    "duration": 2100,
    "start_time": "2023-08-10T09:54:14.719Z"
   },
   {
    "duration": 84,
    "start_time": "2023-08-10T09:54:52.806Z"
   },
   {
    "duration": 132,
    "start_time": "2023-08-10T09:55:02.879Z"
   },
   {
    "duration": 24,
    "start_time": "2023-08-10T09:56:57.983Z"
   },
   {
    "duration": 39,
    "start_time": "2023-08-10T09:57:41.529Z"
   },
   {
    "duration": 28,
    "start_time": "2023-08-10T09:58:56.583Z"
   },
   {
    "duration": 26,
    "start_time": "2023-08-10T09:59:05.702Z"
   },
   {
    "duration": 34,
    "start_time": "2023-08-10T09:59:12.408Z"
   },
   {
    "duration": 35,
    "start_time": "2023-08-10T09:59:45.343Z"
   },
   {
    "duration": 26,
    "start_time": "2023-08-10T10:00:33.474Z"
   },
   {
    "duration": 66,
    "start_time": "2023-08-10T10:00:48.150Z"
   },
   {
    "duration": 9,
    "start_time": "2023-08-10T10:01:23.626Z"
   },
   {
    "duration": 5,
    "start_time": "2023-08-10T10:01:38.878Z"
   },
   {
    "duration": 9,
    "start_time": "2023-08-10T10:02:41.565Z"
   },
   {
    "duration": 12,
    "start_time": "2023-08-10T10:03:15.377Z"
   },
   {
    "duration": 14,
    "start_time": "2023-08-10T10:03:48.393Z"
   },
   {
    "duration": 26,
    "start_time": "2023-08-10T10:03:56.044Z"
   },
   {
    "duration": 61,
    "start_time": "2023-08-10T10:04:08.310Z"
   },
   {
    "duration": 10,
    "start_time": "2023-08-10T10:06:15.272Z"
   },
   {
    "duration": 3,
    "start_time": "2023-08-10T10:06:44.077Z"
   },
   {
    "duration": 94,
    "start_time": "2023-08-10T10:06:44.083Z"
   },
   {
    "duration": 21,
    "start_time": "2023-08-10T10:06:44.180Z"
   },
   {
    "duration": 30,
    "start_time": "2023-08-10T10:06:44.204Z"
   },
   {
    "duration": 40,
    "start_time": "2023-08-10T10:06:44.238Z"
   },
   {
    "duration": 20,
    "start_time": "2023-08-10T10:06:44.282Z"
   },
   {
    "duration": 24,
    "start_time": "2023-08-10T10:06:44.304Z"
   },
   {
    "duration": 251,
    "start_time": "2023-08-10T10:06:44.330Z"
   },
   {
    "duration": 17,
    "start_time": "2023-08-10T10:06:44.583Z"
   },
   {
    "duration": 11,
    "start_time": "2023-08-10T10:06:44.602Z"
   },
   {
    "duration": 125,
    "start_time": "2023-08-10T10:06:44.615Z"
   },
   {
    "duration": 21,
    "start_time": "2023-08-10T10:07:24.483Z"
   },
   {
    "duration": 11,
    "start_time": "2023-08-10T10:08:04.513Z"
   },
   {
    "duration": 4,
    "start_time": "2023-08-10T10:08:23.812Z"
   },
   {
    "duration": 80,
    "start_time": "2023-08-10T10:08:23.818Z"
   },
   {
    "duration": 15,
    "start_time": "2023-08-10T10:08:23.900Z"
   },
   {
    "duration": 29,
    "start_time": "2023-08-10T10:08:23.916Z"
   },
   {
    "duration": 43,
    "start_time": "2023-08-10T10:08:23.948Z"
   },
   {
    "duration": 16,
    "start_time": "2023-08-10T10:08:23.994Z"
   },
   {
    "duration": 20,
    "start_time": "2023-08-10T10:08:24.011Z"
   },
   {
    "duration": 215,
    "start_time": "2023-08-10T10:08:24.033Z"
   },
   {
    "duration": 32,
    "start_time": "2023-08-10T10:08:24.251Z"
   },
   {
    "duration": 29,
    "start_time": "2023-08-10T10:08:24.284Z"
   },
   {
    "duration": 0,
    "start_time": "2023-08-10T10:08:24.316Z"
   },
   {
    "duration": 21,
    "start_time": "2023-08-10T10:08:35.378Z"
   },
   {
    "duration": 6,
    "start_time": "2023-08-10T10:09:08.385Z"
   },
   {
    "duration": 134,
    "start_time": "2023-08-10T10:09:08.393Z"
   },
   {
    "duration": 18,
    "start_time": "2023-08-10T10:09:08.529Z"
   },
   {
    "duration": 32,
    "start_time": "2023-08-10T10:09:08.549Z"
   },
   {
    "duration": 39,
    "start_time": "2023-08-10T10:09:08.583Z"
   },
   {
    "duration": 21,
    "start_time": "2023-08-10T10:09:08.625Z"
   },
   {
    "duration": 36,
    "start_time": "2023-08-10T10:09:08.663Z"
   },
   {
    "duration": 266,
    "start_time": "2023-08-10T10:09:08.701Z"
   },
   {
    "duration": 21,
    "start_time": "2023-08-10T10:09:08.968Z"
   },
   {
    "duration": 25,
    "start_time": "2023-08-10T10:09:08.993Z"
   },
   {
    "duration": 0,
    "start_time": "2023-08-10T10:09:09.020Z"
   },
   {
    "duration": 18,
    "start_time": "2023-08-10T10:09:42.518Z"
   },
   {
    "duration": 2655,
    "start_time": "2023-08-10T10:10:15.806Z"
   },
   {
    "duration": 2600,
    "start_time": "2023-08-10T10:10:33.179Z"
   },
   {
    "duration": 35,
    "start_time": "2023-08-10T10:18:36.344Z"
   },
   {
    "duration": 14,
    "start_time": "2023-08-10T10:19:53.122Z"
   },
   {
    "duration": 41,
    "start_time": "2023-08-10T10:20:05.350Z"
   },
   {
    "duration": 9,
    "start_time": "2023-08-10T10:22:18.684Z"
   },
   {
    "duration": 8,
    "start_time": "2023-08-10T10:22:23.350Z"
   },
   {
    "duration": 9,
    "start_time": "2023-08-10T10:22:29.995Z"
   },
   {
    "duration": 17,
    "start_time": "2023-08-10T10:22:36.178Z"
   },
   {
    "duration": 15,
    "start_time": "2023-08-10T10:23:30.404Z"
   },
   {
    "duration": 151,
    "start_time": "2023-08-10T10:23:45.588Z"
   },
   {
    "duration": 11,
    "start_time": "2023-08-10T10:25:15.233Z"
   },
   {
    "duration": 9,
    "start_time": "2023-08-10T10:25:20.293Z"
   },
   {
    "duration": 18,
    "start_time": "2023-08-10T10:26:58.413Z"
   },
   {
    "duration": 223,
    "start_time": "2023-08-10T10:27:10.314Z"
   },
   {
    "duration": 306,
    "start_time": "2023-08-10T10:27:20.705Z"
   },
   {
    "duration": 120,
    "start_time": "2023-08-10T10:27:57.949Z"
   },
   {
    "duration": 106,
    "start_time": "2023-08-10T10:28:03.027Z"
   },
   {
    "duration": 312,
    "start_time": "2023-08-10T10:28:06.092Z"
   },
   {
    "duration": 333,
    "start_time": "2023-08-10T10:28:30.930Z"
   },
   {
    "duration": 61,
    "start_time": "2023-08-11T04:09:50.972Z"
   },
   {
    "duration": 1470,
    "start_time": "2023-08-11T04:09:55.073Z"
   },
   {
    "duration": 400,
    "start_time": "2023-08-11T04:09:56.545Z"
   },
   {
    "duration": 19,
    "start_time": "2023-08-11T04:09:56.951Z"
   },
   {
    "duration": 112,
    "start_time": "2023-08-11T04:09:56.971Z"
   },
   {
    "duration": 71,
    "start_time": "2023-08-11T04:09:57.086Z"
   },
   {
    "duration": 15,
    "start_time": "2023-08-11T04:09:57.159Z"
   },
   {
    "duration": 42,
    "start_time": "2023-08-11T04:09:57.175Z"
   },
   {
    "duration": 307,
    "start_time": "2023-08-11T04:09:57.219Z"
   },
   {
    "duration": 276,
    "start_time": "2023-08-11T04:09:57.527Z"
   },
   {
    "duration": 121,
    "start_time": "2023-08-11T04:10:09.664Z"
   },
   {
    "duration": 187,
    "start_time": "2023-08-11T04:10:13.668Z"
   },
   {
    "duration": 176,
    "start_time": "2023-08-11T04:10:21.135Z"
   },
   {
    "duration": 236,
    "start_time": "2023-08-11T04:10:31.479Z"
   },
   {
    "duration": 229,
    "start_time": "2023-08-11T04:10:36.247Z"
   },
   {
    "duration": 349,
    "start_time": "2023-08-11T04:11:00.120Z"
   },
   {
    "duration": 338,
    "start_time": "2023-08-11T04:11:46.938Z"
   },
   {
    "duration": 299,
    "start_time": "2023-08-11T04:11:57.089Z"
   },
   {
    "duration": 203,
    "start_time": "2023-08-11T04:14:43.159Z"
   },
   {
    "duration": 4,
    "start_time": "2023-08-11T04:23:06.630Z"
   },
   {
    "duration": 211,
    "start_time": "2023-08-11T04:29:31.640Z"
   },
   {
    "duration": 83,
    "start_time": "2023-08-11T04:29:38.898Z"
   },
   {
    "duration": 19,
    "start_time": "2023-08-11T04:29:50.215Z"
   },
   {
    "duration": 20,
    "start_time": "2023-08-11T04:31:32.070Z"
   },
   {
    "duration": 28,
    "start_time": "2023-08-11T04:31:44.392Z"
   },
   {
    "duration": 19,
    "start_time": "2023-08-11T04:32:00.227Z"
   },
   {
    "duration": 29,
    "start_time": "2023-08-11T04:32:05.591Z"
   },
   {
    "duration": 19,
    "start_time": "2023-08-11T04:32:42.844Z"
   },
   {
    "duration": 129,
    "start_time": "2023-08-11T04:33:37.127Z"
   },
   {
    "duration": 85,
    "start_time": "2023-08-11T04:34:18.959Z"
   },
   {
    "duration": 67,
    "start_time": "2023-08-11T04:35:59.040Z"
   },
   {
    "duration": 50,
    "start_time": "2023-08-11T04:36:21.236Z"
   },
   {
    "duration": 97,
    "start_time": "2023-08-11T04:38:56.726Z"
   },
   {
    "duration": 840,
    "start_time": "2023-08-11T04:39:41.173Z"
   },
   {
    "duration": 852,
    "start_time": "2023-08-11T04:40:00.293Z"
   },
   {
    "duration": 915,
    "start_time": "2023-08-11T04:40:13.937Z"
   },
   {
    "duration": 808,
    "start_time": "2023-08-11T04:41:32.581Z"
   },
   {
    "duration": 805,
    "start_time": "2023-08-11T04:41:50.883Z"
   },
   {
    "duration": 24,
    "start_time": "2023-08-11T04:55:04.511Z"
   },
   {
    "duration": 2029,
    "start_time": "2023-08-11T04:55:14.684Z"
   },
   {
    "duration": 35,
    "start_time": "2023-08-11T04:55:34.694Z"
   },
   {
    "duration": 1981,
    "start_time": "2023-08-11T04:55:45.159Z"
   },
   {
    "duration": 11,
    "start_time": "2023-08-11T04:56:08.677Z"
   },
   {
    "duration": 11,
    "start_time": "2023-08-11T04:56:17.670Z"
   },
   {
    "duration": 13,
    "start_time": "2023-08-11T04:56:28.061Z"
   },
   {
    "duration": 19,
    "start_time": "2023-08-11T04:56:42.524Z"
   },
   {
    "duration": 16,
    "start_time": "2023-08-11T04:57:00.759Z"
   },
   {
    "duration": 16,
    "start_time": "2023-08-11T04:57:33.229Z"
   },
   {
    "duration": 2029,
    "start_time": "2023-08-11T04:57:37.129Z"
   },
   {
    "duration": 27,
    "start_time": "2023-08-11T04:58:03.467Z"
   },
   {
    "duration": 140,
    "start_time": "2023-08-11T04:58:09.517Z"
   },
   {
    "duration": 158,
    "start_time": "2023-08-11T04:58:19.347Z"
   },
   {
    "duration": 233,
    "start_time": "2023-08-11T04:58:29.927Z"
   },
   {
    "duration": 708,
    "start_time": "2023-08-11T04:58:44.120Z"
   },
   {
    "duration": 658,
    "start_time": "2023-08-11T04:59:03.258Z"
   },
   {
    "duration": 1248,
    "start_time": "2023-08-11T10:10:58.111Z"
   },
   {
    "duration": 283,
    "start_time": "2023-08-11T10:10:59.361Z"
   },
   {
    "duration": 14,
    "start_time": "2023-08-11T10:10:59.645Z"
   },
   {
    "duration": 21,
    "start_time": "2023-08-11T10:10:59.661Z"
   },
   {
    "duration": 24,
    "start_time": "2023-08-11T10:10:59.685Z"
   },
   {
    "duration": 14,
    "start_time": "2023-08-11T10:10:59.711Z"
   },
   {
    "duration": 18,
    "start_time": "2023-08-11T10:10:59.757Z"
   },
   {
    "duration": 172,
    "start_time": "2023-08-11T10:10:59.776Z"
   },
   {
    "duration": 249,
    "start_time": "2023-08-11T10:10:59.956Z"
   },
   {
    "duration": 729,
    "start_time": "2023-08-11T10:11:00.206Z"
   },
   {
    "duration": 862,
    "start_time": "2023-08-11T10:11:00.937Z"
   },
   {
    "duration": 557,
    "start_time": "2023-08-11T10:11:01.801Z"
   },
   {
    "duration": 236,
    "start_time": "2023-08-11T10:12:54.588Z"
   },
   {
    "duration": 242,
    "start_time": "2023-08-11T10:13:03.518Z"
   },
   {
    "duration": 384,
    "start_time": "2023-08-11T10:13:13.317Z"
   },
   {
    "duration": 230,
    "start_time": "2023-08-11T10:19:51.054Z"
   },
   {
    "duration": 128,
    "start_time": "2023-08-11T10:20:28.658Z"
   },
   {
    "duration": 224,
    "start_time": "2023-08-11T10:20:40.401Z"
   },
   {
    "duration": 56,
    "start_time": "2023-08-11T10:21:07.749Z"
   },
   {
    "duration": 60,
    "start_time": "2023-08-11T10:21:07.808Z"
   },
   {
    "duration": 14,
    "start_time": "2023-08-11T10:21:07.870Z"
   },
   {
    "duration": 24,
    "start_time": "2023-08-11T10:21:07.885Z"
   },
   {
    "duration": 24,
    "start_time": "2023-08-11T10:21:07.911Z"
   },
   {
    "duration": 24,
    "start_time": "2023-08-11T10:21:07.937Z"
   },
   {
    "duration": 17,
    "start_time": "2023-08-11T10:21:07.963Z"
   },
   {
    "duration": 175,
    "start_time": "2023-08-11T10:21:07.981Z"
   },
   {
    "duration": 372,
    "start_time": "2023-08-11T10:21:08.158Z"
   },
   {
    "duration": 357,
    "start_time": "2023-08-11T10:21:08.532Z"
   },
   {
    "duration": 810,
    "start_time": "2023-08-11T10:21:08.892Z"
   },
   {
    "duration": 832,
    "start_time": "2023-08-11T10:21:09.704Z"
   },
   {
    "duration": 537,
    "start_time": "2023-08-11T10:21:10.539Z"
   },
   {
    "duration": 369,
    "start_time": "2023-08-11T10:22:46.848Z"
   },
   {
    "duration": 144,
    "start_time": "2023-08-11T10:23:33.312Z"
   },
   {
    "duration": 439,
    "start_time": "2023-08-11T10:24:43.315Z"
   },
   {
    "duration": 19,
    "start_time": "2023-08-11T10:27:05.278Z"
   },
   {
    "duration": 2,
    "start_time": "2023-08-11T10:27:25.777Z"
   },
   {
    "duration": 86,
    "start_time": "2023-08-11T10:27:25.781Z"
   },
   {
    "duration": 14,
    "start_time": "2023-08-11T10:27:25.868Z"
   },
   {
    "duration": 26,
    "start_time": "2023-08-11T10:27:25.884Z"
   },
   {
    "duration": 24,
    "start_time": "2023-08-11T10:27:25.913Z"
   },
   {
    "duration": 29,
    "start_time": "2023-08-11T10:27:25.938Z"
   },
   {
    "duration": 24,
    "start_time": "2023-08-11T10:27:25.969Z"
   },
   {
    "duration": 158,
    "start_time": "2023-08-11T10:27:25.994Z"
   },
   {
    "duration": 354,
    "start_time": "2023-08-11T10:27:26.156Z"
   },
   {
    "duration": 17,
    "start_time": "2023-08-11T10:27:26.511Z"
   },
   {
    "duration": 0,
    "start_time": "2023-08-11T10:27:26.529Z"
   },
   {
    "duration": 0,
    "start_time": "2023-08-11T10:27:26.530Z"
   },
   {
    "duration": 0,
    "start_time": "2023-08-11T10:27:26.531Z"
   },
   {
    "duration": 16,
    "start_time": "2023-08-11T10:27:40.907Z"
   },
   {
    "duration": 14,
    "start_time": "2023-08-11T10:29:27.812Z"
   },
   {
    "duration": 22,
    "start_time": "2023-08-11T10:30:54.360Z"
   },
   {
    "duration": 37,
    "start_time": "2023-08-11T10:31:03.238Z"
   },
   {
    "duration": 16,
    "start_time": "2023-08-11T10:31:14.785Z"
   },
   {
    "duration": 29,
    "start_time": "2023-08-11T10:31:33.626Z"
   },
   {
    "duration": 32,
    "start_time": "2023-08-11T10:31:45.692Z"
   },
   {
    "duration": 30,
    "start_time": "2023-08-11T10:34:58.754Z"
   },
   {
    "duration": 15,
    "start_time": "2023-08-11T10:36:00.406Z"
   },
   {
    "duration": 27,
    "start_time": "2023-08-11T10:36:10.658Z"
   },
   {
    "duration": 31,
    "start_time": "2023-08-11T10:36:20.645Z"
   },
   {
    "duration": 37,
    "start_time": "2023-08-11T10:36:33.920Z"
   },
   {
    "duration": 110,
    "start_time": "2023-08-11T10:36:54.388Z"
   },
   {
    "duration": 186,
    "start_time": "2023-08-11T10:36:59.848Z"
   },
   {
    "duration": 36,
    "start_time": "2023-08-11T10:37:09.604Z"
   },
   {
    "duration": 1943,
    "start_time": "2023-08-11T10:37:17.823Z"
   },
   {
    "duration": 32,
    "start_time": "2023-08-11T10:38:00.365Z"
   },
   {
    "duration": 38,
    "start_time": "2023-08-11T10:38:19.003Z"
   },
   {
    "duration": 29,
    "start_time": "2023-08-11T10:39:07.454Z"
   },
   {
    "duration": 53,
    "start_time": "2023-08-11T10:39:34.680Z"
   },
   {
    "duration": 32,
    "start_time": "2023-08-11T10:39:49.908Z"
   },
   {
    "duration": 38,
    "start_time": "2023-08-11T10:40:19.386Z"
   },
   {
    "duration": 40,
    "start_time": "2023-08-11T10:40:24.802Z"
   },
   {
    "duration": 51,
    "start_time": "2023-08-11T10:40:53.809Z"
   },
   {
    "duration": 33,
    "start_time": "2023-08-11T10:41:10.398Z"
   },
   {
    "duration": 34,
    "start_time": "2023-08-11T10:44:05.864Z"
   },
   {
    "duration": 42,
    "start_time": "2023-08-11T10:44:32.832Z"
   },
   {
    "duration": 10,
    "start_time": "2023-08-11T10:46:30.570Z"
   },
   {
    "duration": 11,
    "start_time": "2023-08-11T10:46:37.807Z"
   },
   {
    "duration": 21,
    "start_time": "2023-08-11T10:46:49.380Z"
   },
   {
    "duration": 115,
    "start_time": "2023-08-11T10:47:23.990Z"
   },
   {
    "duration": 20,
    "start_time": "2023-08-11T10:47:29.967Z"
   },
   {
    "duration": 147,
    "start_time": "2023-08-11T10:48:48.287Z"
   },
   {
    "duration": 345,
    "start_time": "2023-08-11T10:48:56.272Z"
   },
   {
    "duration": 18,
    "start_time": "2023-08-11T10:58:52.476Z"
   },
   {
    "duration": 12,
    "start_time": "2023-08-11T10:59:40.532Z"
   },
   {
    "duration": 8,
    "start_time": "2023-08-11T10:59:50.271Z"
   },
   {
    "duration": 17,
    "start_time": "2023-08-11T10:59:58.398Z"
   },
   {
    "duration": 16,
    "start_time": "2023-08-11T11:00:14.821Z"
   },
   {
    "duration": 30,
    "start_time": "2023-08-11T11:00:31.503Z"
   },
   {
    "duration": 16,
    "start_time": "2023-08-11T11:01:03.194Z"
   },
   {
    "duration": 12,
    "start_time": "2023-08-11T11:01:08.288Z"
   },
   {
    "duration": 307,
    "start_time": "2023-08-11T11:02:09.801Z"
   },
   {
    "duration": 3,
    "start_time": "2023-08-11T11:02:49.877Z"
   },
   {
    "duration": 82,
    "start_time": "2023-08-11T11:02:49.882Z"
   },
   {
    "duration": 16,
    "start_time": "2023-08-11T11:02:49.968Z"
   },
   {
    "duration": 22,
    "start_time": "2023-08-11T11:02:49.986Z"
   },
   {
    "duration": 24,
    "start_time": "2023-08-11T11:02:50.010Z"
   },
   {
    "duration": 28,
    "start_time": "2023-08-11T11:02:50.036Z"
   },
   {
    "duration": 32,
    "start_time": "2023-08-11T11:02:50.065Z"
   },
   {
    "duration": 201,
    "start_time": "2023-08-11T11:02:50.100Z"
   },
   {
    "duration": 530,
    "start_time": "2023-08-11T11:02:50.303Z"
   },
   {
    "duration": 300,
    "start_time": "2023-08-11T11:02:50.835Z"
   },
   {
    "duration": 811,
    "start_time": "2023-08-11T11:02:51.137Z"
   },
   {
    "duration": 888,
    "start_time": "2023-08-11T11:02:51.951Z"
   },
   {
    "duration": 778,
    "start_time": "2023-08-11T11:02:52.841Z"
   },
   {
    "duration": 3,
    "start_time": "2023-08-11T11:03:21.222Z"
   },
   {
    "duration": 102,
    "start_time": "2023-08-11T11:03:21.228Z"
   },
   {
    "duration": 16,
    "start_time": "2023-08-11T11:03:21.331Z"
   },
   {
    "duration": 38,
    "start_time": "2023-08-11T11:03:21.349Z"
   },
   {
    "duration": 39,
    "start_time": "2023-08-11T11:03:21.389Z"
   },
   {
    "duration": 15,
    "start_time": "2023-08-11T11:03:21.430Z"
   },
   {
    "duration": 46,
    "start_time": "2023-08-11T11:03:21.447Z"
   },
   {
    "duration": 201,
    "start_time": "2023-08-11T11:03:21.495Z"
   },
   {
    "duration": 437,
    "start_time": "2023-08-11T11:03:21.697Z"
   },
   {
    "duration": 316,
    "start_time": "2023-08-11T11:03:22.136Z"
   },
   {
    "duration": 866,
    "start_time": "2023-08-11T11:03:22.455Z"
   },
   {
    "duration": 897,
    "start_time": "2023-08-11T11:03:23.322Z"
   },
   {
    "duration": 777,
    "start_time": "2023-08-11T11:03:24.220Z"
   },
   {
    "duration": 120,
    "start_time": "2023-08-11T11:16:07.193Z"
   },
   {
    "duration": 29,
    "start_time": "2023-08-11T11:16:23.622Z"
   },
   {
    "duration": 27,
    "start_time": "2023-08-11T11:16:38.006Z"
   },
   {
    "duration": 29,
    "start_time": "2023-08-11T11:17:06.997Z"
   },
   {
    "duration": 29,
    "start_time": "2023-08-11T11:17:50.996Z"
   },
   {
    "duration": 32,
    "start_time": "2023-08-11T11:18:45.070Z"
   },
   {
    "duration": 3,
    "start_time": "2023-08-11T11:19:28.366Z"
   },
   {
    "duration": 32,
    "start_time": "2023-08-11T11:24:51.271Z"
   },
   {
    "duration": 4,
    "start_time": "2023-08-11T11:25:19.784Z"
   },
   {
    "duration": 76,
    "start_time": "2023-08-11T11:25:19.791Z"
   },
   {
    "duration": 17,
    "start_time": "2023-08-11T11:25:19.869Z"
   },
   {
    "duration": 29,
    "start_time": "2023-08-11T11:25:19.889Z"
   },
   {
    "duration": 66,
    "start_time": "2023-08-11T11:25:19.921Z"
   },
   {
    "duration": 12,
    "start_time": "2023-08-11T11:25:19.989Z"
   },
   {
    "duration": 19,
    "start_time": "2023-08-11T11:25:20.003Z"
   },
   {
    "duration": 185,
    "start_time": "2023-08-11T11:25:20.024Z"
   },
   {
    "duration": 370,
    "start_time": "2023-08-11T11:25:20.211Z"
   },
   {
    "duration": 277,
    "start_time": "2023-08-11T11:25:20.583Z"
   },
   {
    "duration": 34,
    "start_time": "2023-08-11T11:25:20.862Z"
   },
   {
    "duration": 758,
    "start_time": "2023-08-11T11:25:20.898Z"
   },
   {
    "duration": 870,
    "start_time": "2023-08-11T11:25:21.658Z"
   },
   {
    "duration": 587,
    "start_time": "2023-08-11T11:25:22.531Z"
   },
   {
    "duration": 49,
    "start_time": "2023-08-14T04:18:38.128Z"
   },
   {
    "duration": 1450,
    "start_time": "2023-08-14T04:18:42.028Z"
   },
   {
    "duration": 121,
    "start_time": "2023-08-14T04:18:43.480Z"
   },
   {
    "duration": 17,
    "start_time": "2023-08-14T04:18:43.603Z"
   },
   {
    "duration": 23,
    "start_time": "2023-08-14T04:18:43.622Z"
   },
   {
    "duration": 27,
    "start_time": "2023-08-14T04:18:43.647Z"
   },
   {
    "duration": 35,
    "start_time": "2023-08-14T04:18:43.676Z"
   },
   {
    "duration": 18,
    "start_time": "2023-08-14T04:18:43.713Z"
   },
   {
    "duration": 207,
    "start_time": "2023-08-14T04:18:43.733Z"
   },
   {
    "duration": 421,
    "start_time": "2023-08-14T04:18:43.942Z"
   },
   {
    "duration": 275,
    "start_time": "2023-08-14T04:18:44.365Z"
   },
   {
    "duration": 304,
    "start_time": "2023-08-14T04:18:44.642Z"
   },
   {
    "duration": 0,
    "start_time": "2023-08-14T04:18:44.948Z"
   },
   {
    "duration": 0,
    "start_time": "2023-08-14T04:18:44.950Z"
   },
   {
    "duration": 0,
    "start_time": "2023-08-14T04:18:44.951Z"
   },
   {
    "duration": 0,
    "start_time": "2023-08-14T04:18:44.952Z"
   },
   {
    "duration": 256,
    "start_time": "2023-08-14T04:19:05.862Z"
   },
   {
    "duration": 235,
    "start_time": "2023-08-14T04:19:38.741Z"
   },
   {
    "duration": 252,
    "start_time": "2023-08-14T04:19:54.837Z"
   },
   {
    "duration": 358,
    "start_time": "2023-08-14T04:20:15.119Z"
   },
   {
    "duration": 245,
    "start_time": "2023-08-14T04:20:22.929Z"
   },
   {
    "duration": 5,
    "start_time": "2023-08-14T04:22:18.985Z"
   },
   {
    "duration": 499,
    "start_time": "2023-08-14T04:22:25.197Z"
   },
   {
    "duration": 487,
    "start_time": "2023-08-14T04:23:19.401Z"
   },
   {
    "duration": 671,
    "start_time": "2023-08-14T04:23:52.333Z"
   },
   {
    "duration": 240,
    "start_time": "2023-08-14T04:24:30.744Z"
   },
   {
    "duration": 252,
    "start_time": "2023-08-14T04:24:39.903Z"
   },
   {
    "duration": 100,
    "start_time": "2023-08-14T04:24:43.804Z"
   },
   {
    "duration": 268,
    "start_time": "2023-08-14T04:24:50.577Z"
   },
   {
    "duration": 294,
    "start_time": "2023-08-14T04:24:56.268Z"
   },
   {
    "duration": 239,
    "start_time": "2023-08-14T04:25:17.605Z"
   },
   {
    "duration": 510,
    "start_time": "2023-08-14T04:25:21.175Z"
   },
   {
    "duration": 653,
    "start_time": "2023-08-14T04:26:09.348Z"
   },
   {
    "duration": 1526,
    "start_time": "2023-08-14T04:27:12.319Z"
   },
   {
    "duration": 1607,
    "start_time": "2023-08-14T04:27:23.888Z"
   },
   {
    "duration": 267,
    "start_time": "2023-08-14T04:27:49.439Z"
   },
   {
    "duration": 256,
    "start_time": "2023-08-14T04:27:54.233Z"
   },
   {
    "duration": 508,
    "start_time": "2023-08-14T04:28:40.857Z"
   },
   {
    "duration": 240,
    "start_time": "2023-08-14T04:30:11.400Z"
   },
   {
    "duration": 258,
    "start_time": "2023-08-14T04:30:14.840Z"
   },
   {
    "duration": 236,
    "start_time": "2023-08-14T04:30:26.725Z"
   },
   {
    "duration": 270,
    "start_time": "2023-08-14T04:31:06.224Z"
   },
   {
    "duration": 127,
    "start_time": "2023-08-14T04:31:23.146Z"
   },
   {
    "duration": 240,
    "start_time": "2023-08-14T04:31:27.008Z"
   },
   {
    "duration": 339,
    "start_time": "2023-08-14T04:31:39.107Z"
   },
   {
    "duration": 254,
    "start_time": "2023-08-14T04:32:23.593Z"
   },
   {
    "duration": 273,
    "start_time": "2023-08-14T04:32:36.254Z"
   },
   {
    "duration": 282,
    "start_time": "2023-08-14T04:32:47.485Z"
   },
   {
    "duration": 262,
    "start_time": "2023-08-14T04:32:54.233Z"
   },
   {
    "duration": 304,
    "start_time": "2023-08-14T04:33:09.319Z"
   },
   {
    "duration": 298,
    "start_time": "2023-08-14T04:33:26.599Z"
   },
   {
    "duration": 237,
    "start_time": "2023-08-14T04:33:34.433Z"
   },
   {
    "duration": 3,
    "start_time": "2023-08-14T04:33:44.820Z"
   },
   {
    "duration": 67,
    "start_time": "2023-08-14T04:33:44.825Z"
   },
   {
    "duration": 14,
    "start_time": "2023-08-14T04:33:44.893Z"
   },
   {
    "duration": 23,
    "start_time": "2023-08-14T04:33:44.910Z"
   },
   {
    "duration": 25,
    "start_time": "2023-08-14T04:33:44.934Z"
   },
   {
    "duration": 12,
    "start_time": "2023-08-14T04:33:44.960Z"
   },
   {
    "duration": 18,
    "start_time": "2023-08-14T04:33:44.995Z"
   },
   {
    "duration": 170,
    "start_time": "2023-08-14T04:33:45.015Z"
   },
   {
    "duration": 394,
    "start_time": "2023-08-14T04:33:45.187Z"
   },
   {
    "duration": 370,
    "start_time": "2023-08-14T04:33:45.584Z"
   },
   {
    "duration": 257,
    "start_time": "2023-08-14T04:33:45.956Z"
   },
   {
    "duration": 28,
    "start_time": "2023-08-14T04:33:46.215Z"
   },
   {
    "duration": 894,
    "start_time": "2023-08-14T04:33:46.245Z"
   },
   {
    "duration": 807,
    "start_time": "2023-08-14T04:33:47.141Z"
   },
   {
    "duration": 669,
    "start_time": "2023-08-14T04:33:47.950Z"
   },
   {
    "duration": 253,
    "start_time": "2023-08-14T04:33:54.834Z"
   },
   {
    "duration": 280,
    "start_time": "2023-08-14T04:34:06.929Z"
   },
   {
    "duration": 265,
    "start_time": "2023-08-14T04:34:17.612Z"
   },
   {
    "duration": 924,
    "start_time": "2023-08-14T04:35:36.467Z"
   },
   {
    "duration": 233,
    "start_time": "2023-08-14T04:36:24.805Z"
   },
   {
    "duration": 239,
    "start_time": "2023-08-14T04:36:31.924Z"
   },
   {
    "duration": 249,
    "start_time": "2023-08-14T04:36:45.453Z"
   },
   {
    "duration": 641,
    "start_time": "2023-08-14T04:37:16.270Z"
   },
   {
    "duration": 386,
    "start_time": "2023-08-14T04:37:58.724Z"
   },
   {
    "duration": 270,
    "start_time": "2023-08-14T04:38:19.347Z"
   },
   {
    "duration": 251,
    "start_time": "2023-08-14T04:38:28.520Z"
   },
   {
    "duration": 271,
    "start_time": "2023-08-14T04:38:52.411Z"
   },
   {
    "duration": 282,
    "start_time": "2023-08-14T04:40:03.130Z"
   },
   {
    "duration": 3,
    "start_time": "2023-08-14T04:40:06.990Z"
   },
   {
    "duration": 82,
    "start_time": "2023-08-14T04:40:06.996Z"
   },
   {
    "duration": 15,
    "start_time": "2023-08-14T04:40:07.080Z"
   },
   {
    "duration": 32,
    "start_time": "2023-08-14T04:40:07.097Z"
   },
   {
    "duration": 26,
    "start_time": "2023-08-14T04:40:07.131Z"
   },
   {
    "duration": 13,
    "start_time": "2023-08-14T04:40:07.158Z"
   },
   {
    "duration": 43,
    "start_time": "2023-08-14T04:40:07.172Z"
   },
   {
    "duration": 192,
    "start_time": "2023-08-14T04:40:07.218Z"
   },
   {
    "duration": 441,
    "start_time": "2023-08-14T04:40:07.411Z"
   },
   {
    "duration": 303,
    "start_time": "2023-08-14T04:40:07.854Z"
   },
   {
    "duration": 299,
    "start_time": "2023-08-14T04:40:08.159Z"
   },
   {
    "duration": 28,
    "start_time": "2023-08-14T04:40:08.460Z"
   },
   {
    "duration": 934,
    "start_time": "2023-08-14T04:40:08.496Z"
   },
   {
    "duration": 771,
    "start_time": "2023-08-14T04:40:09.433Z"
   },
   {
    "duration": 570,
    "start_time": "2023-08-14T04:40:10.206Z"
   },
   {
    "duration": 251,
    "start_time": "2023-08-14T04:40:57.284Z"
   },
   {
    "duration": 259,
    "start_time": "2023-08-14T04:41:21.193Z"
   },
   {
    "duration": 371,
    "start_time": "2023-08-14T04:41:31.270Z"
   },
   {
    "duration": 261,
    "start_time": "2023-08-14T04:41:38.749Z"
   },
   {
    "duration": 259,
    "start_time": "2023-08-14T04:41:57.136Z"
   },
   {
    "duration": 265,
    "start_time": "2023-08-14T04:42:02.844Z"
   },
   {
    "duration": 254,
    "start_time": "2023-08-14T04:42:13.430Z"
   },
   {
    "duration": 264,
    "start_time": "2023-08-14T04:43:00.046Z"
   },
   {
    "duration": 266,
    "start_time": "2023-08-14T04:43:11.762Z"
   },
   {
    "duration": 393,
    "start_time": "2023-08-14T04:43:24.180Z"
   },
   {
    "duration": 610,
    "start_time": "2023-08-14T04:43:30.890Z"
   },
   {
    "duration": 375,
    "start_time": "2023-08-14T04:43:37.237Z"
   },
   {
    "duration": 273,
    "start_time": "2023-08-14T04:43:42.497Z"
   },
   {
    "duration": 257,
    "start_time": "2023-08-14T04:43:51.514Z"
   },
   {
    "duration": 270,
    "start_time": "2023-08-14T04:44:04.439Z"
   },
   {
    "duration": 273,
    "start_time": "2023-08-14T04:44:21.984Z"
   },
   {
    "duration": 372,
    "start_time": "2023-08-14T04:44:58.897Z"
   },
   {
    "duration": 407,
    "start_time": "2023-08-14T04:45:21.088Z"
   },
   {
    "duration": 497,
    "start_time": "2023-08-14T04:45:33.960Z"
   },
   {
    "duration": 368,
    "start_time": "2023-08-14T04:45:42.929Z"
   },
   {
    "duration": 270,
    "start_time": "2023-08-14T04:45:59.199Z"
   },
   {
    "duration": 515,
    "start_time": "2023-08-14T04:46:22.940Z"
   },
   {
    "duration": 233,
    "start_time": "2023-08-14T04:47:52.034Z"
   },
   {
    "duration": 517,
    "start_time": "2023-08-14T04:48:04.751Z"
   },
   {
    "duration": 504,
    "start_time": "2023-08-14T04:48:10.713Z"
   },
   {
    "duration": 620,
    "start_time": "2023-08-14T04:48:25.160Z"
   },
   {
    "duration": 569,
    "start_time": "2023-08-14T04:48:35.289Z"
   },
   {
    "duration": 361,
    "start_time": "2023-08-14T04:49:12.504Z"
   },
   {
    "duration": 248,
    "start_time": "2023-08-14T04:50:15.517Z"
   },
   {
    "duration": 237,
    "start_time": "2023-08-14T04:50:25.985Z"
   },
   {
    "duration": 239,
    "start_time": "2023-08-14T04:50:33.139Z"
   },
   {
    "duration": 237,
    "start_time": "2023-08-14T04:51:23.102Z"
   },
   {
    "duration": 226,
    "start_time": "2023-08-14T04:51:29.872Z"
   },
   {
    "duration": 223,
    "start_time": "2023-08-14T04:51:48.937Z"
   },
   {
    "duration": 2,
    "start_time": "2023-08-14T04:53:38.565Z"
   },
   {
    "duration": 77,
    "start_time": "2023-08-14T04:57:34.918Z"
   },
   {
    "duration": 14,
    "start_time": "2023-08-14T05:01:07.993Z"
   },
   {
    "duration": 11,
    "start_time": "2023-08-14T05:01:14.890Z"
   },
   {
    "duration": 10,
    "start_time": "2023-08-14T05:06:51.311Z"
   },
   {
    "duration": 12,
    "start_time": "2023-08-14T05:07:00.363Z"
   },
   {
    "duration": 10,
    "start_time": "2023-08-14T05:07:19.718Z"
   },
   {
    "duration": 13,
    "start_time": "2023-08-14T05:07:24.922Z"
   },
   {
    "duration": 90,
    "start_time": "2023-08-14T05:07:51.278Z"
   },
   {
    "duration": 567,
    "start_time": "2023-08-14T05:13:59.429Z"
   },
   {
    "duration": 1421,
    "start_time": "2023-08-14T05:35:23.080Z"
   },
   {
    "duration": 111,
    "start_time": "2023-08-14T05:35:24.503Z"
   },
   {
    "duration": 14,
    "start_time": "2023-08-14T05:35:24.615Z"
   },
   {
    "duration": 21,
    "start_time": "2023-08-14T05:35:24.631Z"
   },
   {
    "duration": 41,
    "start_time": "2023-08-14T05:35:24.654Z"
   },
   {
    "duration": 13,
    "start_time": "2023-08-14T05:35:24.697Z"
   },
   {
    "duration": 16,
    "start_time": "2023-08-14T05:35:24.712Z"
   },
   {
    "duration": 218,
    "start_time": "2023-08-14T05:35:24.730Z"
   },
   {
    "duration": 405,
    "start_time": "2023-08-14T05:35:24.950Z"
   },
   {
    "duration": 262,
    "start_time": "2023-08-14T05:35:25.357Z"
   },
   {
    "duration": 249,
    "start_time": "2023-08-14T05:35:25.621Z"
   },
   {
    "duration": 39,
    "start_time": "2023-08-14T05:35:25.872Z"
   },
   {
    "duration": 899,
    "start_time": "2023-08-14T05:35:25.912Z"
   },
   {
    "duration": 747,
    "start_time": "2023-08-14T05:35:26.813Z"
   },
   {
    "duration": 549,
    "start_time": "2023-08-14T05:35:27.561Z"
   },
   {
    "duration": 12,
    "start_time": "2023-08-14T05:35:28.112Z"
   },
   {
    "duration": 16,
    "start_time": "2023-08-14T05:35:28.126Z"
   },
   {
    "duration": 48,
    "start_time": "2023-08-14T09:22:45.635Z"
   },
   {
    "duration": 1244,
    "start_time": "2023-08-14T09:22:47.968Z"
   },
   {
    "duration": 113,
    "start_time": "2023-08-14T09:22:49.214Z"
   },
   {
    "duration": 12,
    "start_time": "2023-08-14T09:22:49.328Z"
   },
   {
    "duration": 35,
    "start_time": "2023-08-14T09:22:49.341Z"
   },
   {
    "duration": 33,
    "start_time": "2023-08-14T09:22:49.379Z"
   },
   {
    "duration": 21,
    "start_time": "2023-08-14T09:22:49.413Z"
   },
   {
    "duration": 1853,
    "start_time": "2023-08-14T09:22:49.435Z"
   },
   {
    "duration": 0,
    "start_time": "2023-08-14T09:22:51.290Z"
   },
   {
    "duration": 0,
    "start_time": "2023-08-14T09:22:51.291Z"
   },
   {
    "duration": 0,
    "start_time": "2023-08-14T09:22:51.292Z"
   },
   {
    "duration": 0,
    "start_time": "2023-08-14T09:22:51.294Z"
   },
   {
    "duration": 0,
    "start_time": "2023-08-14T09:22:51.295Z"
   },
   {
    "duration": 0,
    "start_time": "2023-08-14T09:22:51.296Z"
   },
   {
    "duration": 0,
    "start_time": "2023-08-14T09:22:51.297Z"
   },
   {
    "duration": 0,
    "start_time": "2023-08-14T09:22:51.298Z"
   },
   {
    "duration": 0,
    "start_time": "2023-08-14T09:22:51.299Z"
   },
   {
    "duration": 0,
    "start_time": "2023-08-14T09:22:51.301Z"
   },
   {
    "duration": 78,
    "start_time": "2023-08-14T09:27:23.765Z"
   },
   {
    "duration": 110,
    "start_time": "2023-08-14T09:27:37.508Z"
   },
   {
    "duration": 120,
    "start_time": "2023-08-14T09:28:47.449Z"
   },
   {
    "duration": 30,
    "start_time": "2023-08-14T09:29:35.118Z"
   },
   {
    "duration": 3,
    "start_time": "2023-08-14T09:29:50.191Z"
   },
   {
    "duration": 71,
    "start_time": "2023-08-14T09:29:50.196Z"
   },
   {
    "duration": 13,
    "start_time": "2023-08-14T09:29:50.268Z"
   },
   {
    "duration": 33,
    "start_time": "2023-08-14T09:29:50.283Z"
   },
   {
    "duration": 38,
    "start_time": "2023-08-14T09:29:50.318Z"
   },
   {
    "duration": 28,
    "start_time": "2023-08-14T09:29:50.357Z"
   },
   {
    "duration": 13,
    "start_time": "2023-08-14T09:29:50.387Z"
   },
   {
    "duration": 166,
    "start_time": "2023-08-14T09:29:50.402Z"
   },
   {
    "duration": 354,
    "start_time": "2023-08-14T09:29:50.571Z"
   },
   {
    "duration": 230,
    "start_time": "2023-08-14T09:29:50.926Z"
   },
   {
    "duration": 230,
    "start_time": "2023-08-14T09:29:51.158Z"
   },
   {
    "duration": 25,
    "start_time": "2023-08-14T09:29:51.390Z"
   },
   {
    "duration": 726,
    "start_time": "2023-08-14T09:29:51.417Z"
   },
   {
    "duration": 600,
    "start_time": "2023-08-14T09:29:52.145Z"
   },
   {
    "duration": 533,
    "start_time": "2023-08-14T09:29:52.746Z"
   },
   {
    "duration": 11,
    "start_time": "2023-08-14T09:29:53.280Z"
   },
   {
    "duration": 49,
    "start_time": "2023-08-14T09:29:53.292Z"
   },
   {
    "duration": 28,
    "start_time": "2023-08-14T09:30:25.981Z"
   },
   {
    "duration": 25,
    "start_time": "2023-08-14T09:30:41.260Z"
   },
   {
    "duration": 29,
    "start_time": "2023-08-14T09:30:51.154Z"
   },
   {
    "duration": 105,
    "start_time": "2023-08-14T09:31:16.209Z"
   },
   {
    "duration": 28,
    "start_time": "2023-08-14T09:31:26.560Z"
   },
   {
    "duration": 29,
    "start_time": "2023-08-14T09:31:53.039Z"
   },
   {
    "duration": 15,
    "start_time": "2023-08-14T09:32:48.385Z"
   },
   {
    "duration": 3,
    "start_time": "2023-08-14T09:32:59.462Z"
   },
   {
    "duration": 69,
    "start_time": "2023-08-14T09:32:59.468Z"
   },
   {
    "duration": 12,
    "start_time": "2023-08-14T09:32:59.539Z"
   },
   {
    "duration": 28,
    "start_time": "2023-08-14T09:32:59.553Z"
   },
   {
    "duration": 20,
    "start_time": "2023-08-14T09:32:59.583Z"
   },
   {
    "duration": 15,
    "start_time": "2023-08-14T09:32:59.606Z"
   },
   {
    "duration": 15,
    "start_time": "2023-08-14T09:32:59.638Z"
   },
   {
    "duration": 138,
    "start_time": "2023-08-14T09:32:59.655Z"
   },
   {
    "duration": 391,
    "start_time": "2023-08-14T09:32:59.795Z"
   },
   {
    "duration": 232,
    "start_time": "2023-08-14T09:33:00.188Z"
   },
   {
    "duration": 232,
    "start_time": "2023-08-14T09:33:00.422Z"
   },
   {
    "duration": 29,
    "start_time": "2023-08-14T09:33:00.656Z"
   },
   {
    "duration": 638,
    "start_time": "2023-08-14T09:33:00.687Z"
   },
   {
    "duration": 716,
    "start_time": "2023-08-14T09:33:01.327Z"
   },
   {
    "duration": 505,
    "start_time": "2023-08-14T09:33:02.046Z"
   },
   {
    "duration": 10,
    "start_time": "2023-08-14T09:33:02.552Z"
   },
   {
    "duration": 71,
    "start_time": "2023-08-14T09:33:02.563Z"
   },
   {
    "duration": 23,
    "start_time": "2023-08-14T09:35:15.966Z"
   },
   {
    "duration": 3,
    "start_time": "2023-08-14T09:35:24.135Z"
   },
   {
    "duration": 79,
    "start_time": "2023-08-14T09:35:24.141Z"
   },
   {
    "duration": 13,
    "start_time": "2023-08-14T09:35:24.222Z"
   },
   {
    "duration": 19,
    "start_time": "2023-08-14T09:35:24.237Z"
   },
   {
    "duration": 865,
    "start_time": "2023-08-14T09:35:24.259Z"
   },
   {
    "duration": 0,
    "start_time": "2023-08-14T09:35:25.126Z"
   },
   {
    "duration": 0,
    "start_time": "2023-08-14T09:35:25.127Z"
   },
   {
    "duration": 0,
    "start_time": "2023-08-14T09:35:25.128Z"
   },
   {
    "duration": 0,
    "start_time": "2023-08-14T09:35:25.130Z"
   },
   {
    "duration": 0,
    "start_time": "2023-08-14T09:35:25.131Z"
   },
   {
    "duration": 0,
    "start_time": "2023-08-14T09:35:25.132Z"
   },
   {
    "duration": 0,
    "start_time": "2023-08-14T09:35:25.133Z"
   },
   {
    "duration": 0,
    "start_time": "2023-08-14T09:35:25.134Z"
   },
   {
    "duration": 0,
    "start_time": "2023-08-14T09:35:25.135Z"
   },
   {
    "duration": 0,
    "start_time": "2023-08-14T09:35:25.136Z"
   },
   {
    "duration": 0,
    "start_time": "2023-08-14T09:35:25.137Z"
   },
   {
    "duration": 0,
    "start_time": "2023-08-14T09:35:25.138Z"
   },
   {
    "duration": 21,
    "start_time": "2023-08-14T09:35:42.511Z"
   },
   {
    "duration": 16,
    "start_time": "2023-08-14T09:35:46.715Z"
   },
   {
    "duration": 14,
    "start_time": "2023-08-14T09:36:23.068Z"
   },
   {
    "duration": 139,
    "start_time": "2023-08-14T09:36:47.594Z"
   },
   {
    "duration": 316,
    "start_time": "2023-08-14T09:36:55.178Z"
   },
   {
    "duration": 10,
    "start_time": "2023-08-14T09:38:51.124Z"
   },
   {
    "duration": 2,
    "start_time": "2023-08-14T09:38:55.418Z"
   },
   {
    "duration": 113,
    "start_time": "2023-08-14T09:38:55.422Z"
   },
   {
    "duration": 11,
    "start_time": "2023-08-14T09:38:55.536Z"
   },
   {
    "duration": 24,
    "start_time": "2023-08-14T09:38:55.549Z"
   },
   {
    "duration": 45,
    "start_time": "2023-08-14T09:38:55.574Z"
   },
   {
    "duration": 32,
    "start_time": "2023-08-14T09:38:55.621Z"
   },
   {
    "duration": 26,
    "start_time": "2023-08-14T09:38:55.655Z"
   },
   {
    "duration": 159,
    "start_time": "2023-08-14T09:38:55.683Z"
   },
   {
    "duration": 330,
    "start_time": "2023-08-14T09:38:55.844Z"
   },
   {
    "duration": 303,
    "start_time": "2023-08-14T09:38:56.176Z"
   },
   {
    "duration": 226,
    "start_time": "2023-08-14T09:38:56.481Z"
   },
   {
    "duration": 33,
    "start_time": "2023-08-14T09:38:56.708Z"
   },
   {
    "duration": 620,
    "start_time": "2023-08-14T09:38:56.743Z"
   },
   {
    "duration": 650,
    "start_time": "2023-08-14T09:38:57.365Z"
   },
   {
    "duration": 602,
    "start_time": "2023-08-14T09:38:58.016Z"
   },
   {
    "duration": 11,
    "start_time": "2023-08-14T09:38:58.619Z"
   },
   {
    "duration": 9,
    "start_time": "2023-08-14T09:38:58.638Z"
   },
   {
    "duration": 217,
    "start_time": "2023-08-14T09:39:30.829Z"
   },
   {
    "duration": 24,
    "start_time": "2023-08-14T09:40:36.878Z"
   },
   {
    "duration": 622,
    "start_time": "2023-08-14T09:41:00.166Z"
   },
   {
    "duration": 633,
    "start_time": "2023-08-14T09:41:17.009Z"
   },
   {
    "duration": 528,
    "start_time": "2023-08-14T09:41:35.811Z"
   },
   {
    "duration": 324,
    "start_time": "2023-08-14T09:52:19.953Z"
   },
   {
    "duration": 293,
    "start_time": "2023-08-14T09:52:33.378Z"
   },
   {
    "duration": 375,
    "start_time": "2023-08-14T09:52:41.698Z"
   },
   {
    "duration": 501,
    "start_time": "2023-08-14T09:52:50.134Z"
   },
   {
    "duration": 415,
    "start_time": "2023-08-14T09:52:55.533Z"
   },
   {
    "duration": 321,
    "start_time": "2023-08-14T09:53:07.667Z"
   },
   {
    "duration": 345,
    "start_time": "2023-08-14T09:53:30.107Z"
   },
   {
    "duration": 599,
    "start_time": "2023-08-14T09:53:47.061Z"
   },
   {
    "duration": 474,
    "start_time": "2023-08-14T09:54:05.413Z"
   },
   {
    "duration": 538,
    "start_time": "2023-08-14T09:54:14.712Z"
   },
   {
    "duration": 558,
    "start_time": "2023-08-14T09:54:24.428Z"
   },
   {
    "duration": 628,
    "start_time": "2023-08-14T09:54:30.627Z"
   },
   {
    "duration": 456,
    "start_time": "2023-08-14T09:55:23.503Z"
   },
   {
    "duration": 455,
    "start_time": "2023-08-14T09:55:38.180Z"
   },
   {
    "duration": 448,
    "start_time": "2023-08-14T09:56:27.958Z"
   },
   {
    "duration": 556,
    "start_time": "2023-08-14T09:56:40.830Z"
   },
   {
    "duration": 473,
    "start_time": "2023-08-14T09:56:54.952Z"
   },
   {
    "duration": 496,
    "start_time": "2023-08-14T09:57:18.358Z"
   },
   {
    "duration": 599,
    "start_time": "2023-08-14T09:57:35.833Z"
   },
   {
    "duration": 459,
    "start_time": "2023-08-14T09:59:36.589Z"
   },
   {
    "duration": 524,
    "start_time": "2023-08-14T10:00:21.189Z"
   },
   {
    "duration": 462,
    "start_time": "2023-08-14T10:04:46.254Z"
   },
   {
    "duration": 585,
    "start_time": "2023-08-14T10:05:33.775Z"
   },
   {
    "duration": 552,
    "start_time": "2023-08-14T10:05:44.925Z"
   },
   {
    "duration": 758,
    "start_time": "2023-08-14T10:06:04.594Z"
   },
   {
    "duration": 530,
    "start_time": "2023-08-14T10:06:29.930Z"
   },
   {
    "duration": 689,
    "start_time": "2023-08-14T10:06:42.813Z"
   },
   {
    "duration": 368,
    "start_time": "2023-08-14T10:15:28.682Z"
   },
   {
    "duration": 332,
    "start_time": "2023-08-14T10:15:59.645Z"
   },
   {
    "duration": 432,
    "start_time": "2023-08-14T10:16:06.057Z"
   },
   {
    "duration": 296,
    "start_time": "2023-08-14T10:17:06.675Z"
   },
   {
    "duration": 308,
    "start_time": "2023-08-14T10:17:30.756Z"
   },
   {
    "duration": 273,
    "start_time": "2023-08-14T10:17:50.299Z"
   },
   {
    "duration": 266,
    "start_time": "2023-08-14T10:17:57.212Z"
   },
   {
    "duration": 268,
    "start_time": "2023-08-14T10:18:06.628Z"
   },
   {
    "duration": 243,
    "start_time": "2023-08-14T10:19:44.924Z"
   },
   {
    "duration": 4,
    "start_time": "2023-08-14T10:22:02.253Z"
   },
   {
    "duration": 111,
    "start_time": "2023-08-14T10:22:02.260Z"
   },
   {
    "duration": 15,
    "start_time": "2023-08-14T10:22:02.372Z"
   },
   {
    "duration": 59,
    "start_time": "2023-08-14T10:22:02.389Z"
   },
   {
    "duration": 40,
    "start_time": "2023-08-14T10:22:02.450Z"
   },
   {
    "duration": 24,
    "start_time": "2023-08-14T10:22:02.492Z"
   },
   {
    "duration": 51,
    "start_time": "2023-08-14T10:22:02.518Z"
   },
   {
    "duration": 180,
    "start_time": "2023-08-14T10:22:02.571Z"
   },
   {
    "duration": 327,
    "start_time": "2023-08-14T10:22:02.753Z"
   },
   {
    "duration": 588,
    "start_time": "2023-08-14T10:22:03.082Z"
   },
   {
    "duration": 293,
    "start_time": "2023-08-14T10:22:03.672Z"
   },
   {
    "duration": 24,
    "start_time": "2023-08-14T10:22:03.966Z"
   },
   {
    "duration": 698,
    "start_time": "2023-08-14T10:22:03.991Z"
   },
   {
    "duration": 797,
    "start_time": "2023-08-14T10:22:04.692Z"
   },
   {
    "duration": 499,
    "start_time": "2023-08-14T10:22:05.491Z"
   },
   {
    "duration": 10,
    "start_time": "2023-08-14T10:22:05.992Z"
   },
   {
    "duration": 13,
    "start_time": "2023-08-14T10:22:06.004Z"
   },
   {
    "duration": 212,
    "start_time": "2023-08-14T10:23:29.450Z"
   },
   {
    "duration": 225,
    "start_time": "2023-08-14T10:23:42.697Z"
   },
   {
    "duration": 229,
    "start_time": "2023-08-14T10:23:52.028Z"
   },
   {
    "duration": 224,
    "start_time": "2023-08-14T10:23:59.861Z"
   },
   {
    "duration": 12,
    "start_time": "2023-08-14T10:25:01.058Z"
   },
   {
    "duration": 716,
    "start_time": "2023-08-14T10:25:15.266Z"
   },
   {
    "duration": 3,
    "start_time": "2023-08-14T10:56:40.531Z"
   },
   {
    "duration": 92,
    "start_time": "2023-08-14T10:56:40.537Z"
   },
   {
    "duration": 28,
    "start_time": "2023-08-14T10:56:40.630Z"
   },
   {
    "duration": 24,
    "start_time": "2023-08-14T10:56:40.660Z"
   },
   {
    "duration": 131,
    "start_time": "2023-08-14T10:56:40.686Z"
   },
   {
    "duration": 37,
    "start_time": "2023-08-14T10:56:40.819Z"
   },
   {
    "duration": 15,
    "start_time": "2023-08-14T10:56:40.859Z"
   },
   {
    "duration": 148,
    "start_time": "2023-08-14T10:56:40.876Z"
   },
   {
    "duration": 301,
    "start_time": "2023-08-14T10:56:41.026Z"
   },
   {
    "duration": 584,
    "start_time": "2023-08-14T10:56:41.328Z"
   },
   {
    "duration": 754,
    "start_time": "2023-08-14T10:56:41.913Z"
   },
   {
    "duration": 28,
    "start_time": "2023-08-14T10:56:42.671Z"
   },
   {
    "duration": 762,
    "start_time": "2023-08-14T10:56:42.701Z"
   },
   {
    "duration": 701,
    "start_time": "2023-08-14T10:56:43.465Z"
   },
   {
    "duration": 510,
    "start_time": "2023-08-14T10:56:44.168Z"
   },
   {
    "duration": 12,
    "start_time": "2023-08-14T10:56:44.680Z"
   },
   {
    "duration": 18,
    "start_time": "2023-08-14T10:56:44.694Z"
   },
   {
    "duration": 14,
    "start_time": "2023-08-14T11:00:27.002Z"
   },
   {
    "duration": 3,
    "start_time": "2023-08-14T11:00:36.599Z"
   },
   {
    "duration": 75,
    "start_time": "2023-08-14T11:00:36.604Z"
   },
   {
    "duration": 13,
    "start_time": "2023-08-14T11:00:36.681Z"
   },
   {
    "duration": 32,
    "start_time": "2023-08-14T11:00:36.696Z"
   },
   {
    "duration": 55,
    "start_time": "2023-08-14T11:00:36.729Z"
   },
   {
    "duration": 15,
    "start_time": "2023-08-14T11:00:36.785Z"
   },
   {
    "duration": 16,
    "start_time": "2023-08-14T11:00:36.801Z"
   },
   {
    "duration": 162,
    "start_time": "2023-08-14T11:00:36.819Z"
   },
   {
    "duration": 301,
    "start_time": "2023-08-14T11:00:36.984Z"
   },
   {
    "duration": 668,
    "start_time": "2023-08-14T11:00:37.287Z"
   },
   {
    "duration": 747,
    "start_time": "2023-08-14T11:00:37.956Z"
   },
   {
    "duration": 39,
    "start_time": "2023-08-14T11:00:38.704Z"
   },
   {
    "duration": 635,
    "start_time": "2023-08-14T11:00:38.745Z"
   },
   {
    "duration": 689,
    "start_time": "2023-08-14T11:00:39.382Z"
   },
   {
    "duration": 481,
    "start_time": "2023-08-14T11:00:40.073Z"
   },
   {
    "duration": 12,
    "start_time": "2023-08-14T11:00:40.556Z"
   },
   {
    "duration": 43,
    "start_time": "2023-08-14T11:00:40.570Z"
   },
   {
    "duration": 25,
    "start_time": "2023-08-14T11:01:44.935Z"
   },
   {
    "duration": 3,
    "start_time": "2023-08-14T11:01:49.678Z"
   },
   {
    "duration": 121,
    "start_time": "2023-08-14T11:01:49.683Z"
   },
   {
    "duration": 13,
    "start_time": "2023-08-14T11:01:49.806Z"
   },
   {
    "duration": 29,
    "start_time": "2023-08-14T11:01:49.821Z"
   },
   {
    "duration": 35,
    "start_time": "2023-08-14T11:01:49.854Z"
   },
   {
    "duration": 36,
    "start_time": "2023-08-14T11:01:49.891Z"
   },
   {
    "duration": 45,
    "start_time": "2023-08-14T11:01:49.928Z"
   },
   {
    "duration": 285,
    "start_time": "2023-08-14T11:01:49.975Z"
   },
   {
    "duration": 332,
    "start_time": "2023-08-14T11:01:50.268Z"
   },
   {
    "duration": 561,
    "start_time": "2023-08-14T11:01:50.601Z"
   },
   {
    "duration": 831,
    "start_time": "2023-08-14T11:01:51.163Z"
   },
   {
    "duration": 56,
    "start_time": "2023-08-14T11:01:51.996Z"
   },
   {
    "duration": 677,
    "start_time": "2023-08-14T11:01:52.053Z"
   },
   {
    "duration": 806,
    "start_time": "2023-08-14T11:01:52.738Z"
   },
   {
    "duration": 560,
    "start_time": "2023-08-14T11:01:53.546Z"
   },
   {
    "duration": 10,
    "start_time": "2023-08-14T11:01:54.108Z"
   },
   {
    "duration": 27,
    "start_time": "2023-08-14T11:01:54.120Z"
   },
   {
    "duration": 4,
    "start_time": "2023-08-14T11:03:15.704Z"
   },
   {
    "duration": 93,
    "start_time": "2023-08-14T11:03:15.711Z"
   },
   {
    "duration": 14,
    "start_time": "2023-08-14T11:03:15.807Z"
   },
   {
    "duration": 65,
    "start_time": "2023-08-14T11:03:15.822Z"
   },
   {
    "duration": 22,
    "start_time": "2023-08-14T11:03:15.889Z"
   },
   {
    "duration": 53,
    "start_time": "2023-08-14T11:03:15.912Z"
   },
   {
    "duration": 37,
    "start_time": "2023-08-14T11:03:15.966Z"
   },
   {
    "duration": 279,
    "start_time": "2023-08-14T11:03:16.005Z"
   },
   {
    "duration": 358,
    "start_time": "2023-08-14T11:03:16.286Z"
   },
   {
    "duration": 680,
    "start_time": "2023-08-14T11:03:16.645Z"
   },
   {
    "duration": 759,
    "start_time": "2023-08-14T11:03:17.326Z"
   },
   {
    "duration": 25,
    "start_time": "2023-08-14T11:03:18.087Z"
   },
   {
    "duration": 715,
    "start_time": "2023-08-14T11:03:18.114Z"
   },
   {
    "duration": 698,
    "start_time": "2023-08-14T11:03:18.833Z"
   },
   {
    "duration": 556,
    "start_time": "2023-08-14T11:03:19.532Z"
   },
   {
    "duration": 9,
    "start_time": "2023-08-14T11:03:20.090Z"
   },
   {
    "duration": 21,
    "start_time": "2023-08-14T11:03:20.101Z"
   },
   {
    "duration": 267,
    "start_time": "2023-08-14T11:03:48.506Z"
   },
   {
    "duration": 71,
    "start_time": "2023-08-14T11:04:04.709Z"
   },
   {
    "duration": 75,
    "start_time": "2023-08-14T11:04:14.032Z"
   },
   {
    "duration": 26,
    "start_time": "2023-08-14T11:04:34.899Z"
   },
   {
    "duration": 3,
    "start_time": "2023-08-14T11:04:38.963Z"
   },
   {
    "duration": 88,
    "start_time": "2023-08-14T11:04:38.968Z"
   },
   {
    "duration": 12,
    "start_time": "2023-08-14T11:04:39.061Z"
   },
   {
    "duration": 23,
    "start_time": "2023-08-14T11:04:39.075Z"
   },
   {
    "duration": 21,
    "start_time": "2023-08-14T11:04:39.100Z"
   },
   {
    "duration": 38,
    "start_time": "2023-08-14T11:04:39.123Z"
   },
   {
    "duration": 20,
    "start_time": "2023-08-14T11:04:39.165Z"
   },
   {
    "duration": 146,
    "start_time": "2023-08-14T11:04:39.187Z"
   },
   {
    "duration": 330,
    "start_time": "2023-08-14T11:04:39.334Z"
   },
   {
    "duration": 522,
    "start_time": "2023-08-14T11:04:39.665Z"
   },
   {
    "duration": 715,
    "start_time": "2023-08-14T11:04:40.188Z"
   },
   {
    "duration": 47,
    "start_time": "2023-08-14T11:04:40.905Z"
   },
   {
    "duration": 722,
    "start_time": "2023-08-14T11:04:40.953Z"
   },
   {
    "duration": 706,
    "start_time": "2023-08-14T11:04:41.677Z"
   },
   {
    "duration": 526,
    "start_time": "2023-08-14T11:04:42.385Z"
   },
   {
    "duration": 10,
    "start_time": "2023-08-14T11:04:42.912Z"
   },
   {
    "duration": 37,
    "start_time": "2023-08-14T11:04:42.923Z"
   },
   {
    "duration": 164,
    "start_time": "2023-08-14T11:05:00.403Z"
   },
   {
    "duration": 152,
    "start_time": "2023-08-14T11:05:16.526Z"
   },
   {
    "duration": 14,
    "start_time": "2023-08-14T11:07:49.185Z"
   },
   {
    "duration": 4,
    "start_time": "2023-08-14T11:07:53.565Z"
   },
   {
    "duration": 95,
    "start_time": "2023-08-14T11:07:53.571Z"
   },
   {
    "duration": 13,
    "start_time": "2023-08-14T11:07:53.668Z"
   },
   {
    "duration": 41,
    "start_time": "2023-08-14T11:07:53.683Z"
   },
   {
    "duration": 38,
    "start_time": "2023-08-14T11:07:53.726Z"
   },
   {
    "duration": 23,
    "start_time": "2023-08-14T11:07:53.766Z"
   },
   {
    "duration": 13,
    "start_time": "2023-08-14T11:07:53.791Z"
   },
   {
    "duration": 164,
    "start_time": "2023-08-14T11:07:53.806Z"
   },
   {
    "duration": 327,
    "start_time": "2023-08-14T11:07:53.971Z"
   },
   {
    "duration": 740,
    "start_time": "2023-08-14T11:07:54.300Z"
   },
   {
    "duration": 724,
    "start_time": "2023-08-14T11:07:55.048Z"
   },
   {
    "duration": 30,
    "start_time": "2023-08-14T11:07:55.773Z"
   },
   {
    "duration": 684,
    "start_time": "2023-08-14T11:07:55.804Z"
   },
   {
    "duration": 691,
    "start_time": "2023-08-14T11:07:56.491Z"
   },
   {
    "duration": 664,
    "start_time": "2023-08-14T11:07:57.184Z"
   },
   {
    "duration": 14,
    "start_time": "2023-08-14T11:07:57.857Z"
   },
   {
    "duration": 35,
    "start_time": "2023-08-14T11:07:57.873Z"
   },
   {
    "duration": 15,
    "start_time": "2023-08-14T11:23:13.390Z"
   },
   {
    "duration": 19,
    "start_time": "2023-08-14T11:23:29.989Z"
   },
   {
    "duration": 16,
    "start_time": "2023-08-14T11:23:38.469Z"
   },
   {
    "duration": 15,
    "start_time": "2023-08-14T11:23:45.421Z"
   },
   {
    "duration": 3,
    "start_time": "2023-08-14T11:23:51.263Z"
   },
   {
    "duration": 89,
    "start_time": "2023-08-14T11:23:51.268Z"
   },
   {
    "duration": 14,
    "start_time": "2023-08-14T11:23:51.359Z"
   },
   {
    "duration": 38,
    "start_time": "2023-08-14T11:23:51.375Z"
   },
   {
    "duration": 3,
    "start_time": "2023-08-14T11:23:53.762Z"
   },
   {
    "duration": 68,
    "start_time": "2023-08-14T11:23:53.766Z"
   },
   {
    "duration": 28,
    "start_time": "2023-08-14T11:23:53.835Z"
   },
   {
    "duration": 35,
    "start_time": "2023-08-14T11:23:53.864Z"
   },
   {
    "duration": 16,
    "start_time": "2023-08-14T11:23:53.901Z"
   },
   {
    "duration": 34,
    "start_time": "2023-08-14T11:23:53.918Z"
   },
   {
    "duration": 40,
    "start_time": "2023-08-14T11:23:53.953Z"
   },
   {
    "duration": 157,
    "start_time": "2023-08-14T11:23:53.995Z"
   },
   {
    "duration": 345,
    "start_time": "2023-08-14T11:23:54.155Z"
   },
   {
    "duration": 686,
    "start_time": "2023-08-14T11:23:54.502Z"
   },
   {
    "duration": 787,
    "start_time": "2023-08-14T11:23:55.190Z"
   },
   {
    "duration": 24,
    "start_time": "2023-08-14T11:23:55.978Z"
   },
   {
    "duration": 788,
    "start_time": "2023-08-14T11:23:56.004Z"
   },
   {
    "duration": 743,
    "start_time": "2023-08-14T11:23:56.794Z"
   },
   {
    "duration": 546,
    "start_time": "2023-08-14T11:23:57.544Z"
   },
   {
    "duration": 10,
    "start_time": "2023-08-14T11:23:58.091Z"
   },
   {
    "duration": 21,
    "start_time": "2023-08-14T11:23:58.102Z"
   },
   {
    "duration": 17,
    "start_time": "2023-08-14T11:25:12.156Z"
   },
   {
    "duration": 28,
    "start_time": "2023-08-14T11:25:15.139Z"
   },
   {
    "duration": 25,
    "start_time": "2023-08-14T11:25:32.244Z"
   },
   {
    "duration": 11,
    "start_time": "2023-08-14T11:25:48.758Z"
   },
   {
    "duration": 37,
    "start_time": "2023-08-14T11:25:58.430Z"
   },
   {
    "duration": 9,
    "start_time": "2023-08-14T11:26:10.886Z"
   },
   {
    "duration": 18,
    "start_time": "2023-08-14T11:26:46.411Z"
   },
   {
    "duration": 19,
    "start_time": "2023-08-14T11:26:55.860Z"
   },
   {
    "duration": 20,
    "start_time": "2023-08-14T11:27:18.292Z"
   },
   {
    "duration": 68,
    "start_time": "2023-08-14T11:27:49.603Z"
   },
   {
    "duration": 1753,
    "start_time": "2023-08-14T11:28:00.907Z"
   },
   {
    "duration": 79,
    "start_time": "2023-08-14T11:28:13.894Z"
   },
   {
    "duration": 73,
    "start_time": "2023-08-14T11:28:20.229Z"
   },
   {
    "duration": 51,
    "start_time": "2023-08-14T11:28:39.886Z"
   },
   {
    "duration": 2585,
    "start_time": "2023-08-14T11:29:22.904Z"
   },
   {
    "duration": 3,
    "start_time": "2023-08-14T11:29:34.773Z"
   },
   {
    "duration": 78,
    "start_time": "2023-08-14T11:29:34.778Z"
   },
   {
    "duration": 12,
    "start_time": "2023-08-14T11:29:34.869Z"
   },
   {
    "duration": 19,
    "start_time": "2023-08-14T11:29:34.882Z"
   },
   {
    "duration": 1828,
    "start_time": "2023-08-14T11:29:34.902Z"
   },
   {
    "duration": 0,
    "start_time": "2023-08-14T11:29:36.732Z"
   },
   {
    "duration": 0,
    "start_time": "2023-08-14T11:29:36.734Z"
   },
   {
    "duration": 0,
    "start_time": "2023-08-14T11:29:36.735Z"
   },
   {
    "duration": 0,
    "start_time": "2023-08-14T11:29:36.736Z"
   },
   {
    "duration": 0,
    "start_time": "2023-08-14T11:29:36.737Z"
   },
   {
    "duration": 0,
    "start_time": "2023-08-14T11:29:36.738Z"
   },
   {
    "duration": 0,
    "start_time": "2023-08-14T11:29:36.739Z"
   },
   {
    "duration": 0,
    "start_time": "2023-08-14T11:29:36.739Z"
   },
   {
    "duration": 0,
    "start_time": "2023-08-14T11:29:36.740Z"
   },
   {
    "duration": 0,
    "start_time": "2023-08-14T11:29:36.741Z"
   },
   {
    "duration": 0,
    "start_time": "2023-08-14T11:29:36.741Z"
   },
   {
    "duration": 0,
    "start_time": "2023-08-14T11:29:36.742Z"
   },
   {
    "duration": 18,
    "start_time": "2023-08-14T11:29:50.962Z"
   },
   {
    "duration": 21,
    "start_time": "2023-08-14T11:29:58.759Z"
   },
   {
    "duration": 24,
    "start_time": "2023-08-14T11:30:07.877Z"
   },
   {
    "duration": 29,
    "start_time": "2023-08-14T11:30:19.232Z"
   },
   {
    "duration": 28,
    "start_time": "2023-08-14T11:30:26.960Z"
   },
   {
    "duration": 537,
    "start_time": "2023-08-14T11:31:11.431Z"
   },
   {
    "duration": 711,
    "start_time": "2023-08-14T11:36:53.174Z"
   },
   {
    "duration": 655,
    "start_time": "2023-08-14T11:37:35.662Z"
   },
   {
    "duration": 1243,
    "start_time": "2023-08-14T17:53:20.924Z"
   },
   {
    "duration": 187,
    "start_time": "2023-08-14T17:53:22.169Z"
   },
   {
    "duration": 28,
    "start_time": "2023-08-14T17:53:22.358Z"
   },
   {
    "duration": 27,
    "start_time": "2023-08-14T17:53:22.389Z"
   },
   {
    "duration": 59,
    "start_time": "2023-08-14T17:53:22.420Z"
   },
   {
    "duration": 37,
    "start_time": "2023-08-14T17:53:22.481Z"
   },
   {
    "duration": 47,
    "start_time": "2023-08-14T17:53:22.521Z"
   },
   {
    "duration": 202,
    "start_time": "2023-08-14T17:53:22.571Z"
   },
   {
    "duration": 421,
    "start_time": "2023-08-14T17:53:22.774Z"
   },
   {
    "duration": 677,
    "start_time": "2023-08-14T17:53:23.197Z"
   },
   {
    "duration": 953,
    "start_time": "2023-08-14T17:53:23.876Z"
   },
   {
    "duration": 53,
    "start_time": "2023-08-14T17:53:24.831Z"
   },
   {
    "duration": 852,
    "start_time": "2023-08-14T17:53:24.886Z"
   },
   {
    "duration": 819,
    "start_time": "2023-08-14T17:53:25.742Z"
   },
   {
    "duration": 707,
    "start_time": "2023-08-14T17:53:26.566Z"
   },
   {
    "duration": 14,
    "start_time": "2023-08-14T17:53:27.275Z"
   },
   {
    "duration": 14,
    "start_time": "2023-08-14T17:53:27.291Z"
   }
  ],
  "kernelspec": {
   "display_name": "Python 3 (ipykernel)",
   "language": "python",
   "name": "python3"
  },
  "language_info": {
   "codemirror_mode": {
    "name": "ipython",
    "version": 3
   },
   "file_extension": ".py",
   "mimetype": "text/x-python",
   "name": "python",
   "nbconvert_exporter": "python",
   "pygments_lexer": "ipython3",
   "version": "3.11.5"
  },
  "toc": {
   "base_numbering": 1,
   "nav_menu": {},
   "number_sections": true,
   "sideBar": true,
   "skip_h1_title": true,
   "title_cell": "Table of Contents",
   "title_sidebar": "Contents",
   "toc_cell": false,
   "toc_position": {
    "height": "calc(100% - 180px)",
    "left": "10px",
    "top": "150px",
    "width": "165px"
   },
   "toc_section_display": true,
   "toc_window_display": true
  }
 },
 "nbformat": 4,
 "nbformat_minor": 2
}
